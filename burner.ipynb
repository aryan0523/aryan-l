{
 "cells": [
  {
   "cell_type": "code",
   "execution_count": 1,
   "id": "6725e3c8",
   "metadata": {
    "_cell_guid": "b1076dfc-b9ad-4769-8c92-a6c4dae69d19",
    "_uuid": "8f2839f25d086af736a60e9eeb907d3b93b6e0e5",
    "execution": {
     "iopub.execute_input": "2022-08-27T13:15:35.889890Z",
     "iopub.status.busy": "2022-08-27T13:15:35.889058Z",
     "iopub.status.idle": "2022-08-27T13:15:35.912011Z",
     "shell.execute_reply": "2022-08-27T13:15:35.910826Z"
    },
    "papermill": {
     "duration": 0.039273,
     "end_time": "2022-08-27T13:15:35.917457",
     "exception": false,
     "start_time": "2022-08-27T13:15:35.878184",
     "status": "completed"
    },
    "tags": []
   },
   "outputs": [
    {
     "name": "stdout",
     "output_type": "stream",
     "text": [
      "/kaggle/input/house-rent-prediction-dataset/Dataset Glossary.txt\n",
      "/kaggle/input/house-rent-prediction-dataset/House_Rent_Dataset.csv\n"
     ]
    }
   ],
   "source": [
    "# This Python 3 environment comes with many helpful analytics libraries installed\n",
    "# It is defined by the kaggle/python Docker image: https://github.com/kaggle/docker-python\n",
    "# For example, here's several helpful packages to load\n",
    "\n",
    "import numpy as np # linear algebra\n",
    "import pandas as pd # data processing, CSV file I/O (e.g. pd.read_csv)\n",
    "\n",
    "# Input data files are available in the read-only \"../input/\" directory\n",
    "# For example, running this (by clicking run or pressing Shift+Enter) will list all files under the input directory\n",
    "\n",
    "import os\n",
    "for dirname, _, filenames in os.walk('/kaggle/input'):\n",
    "    for filename in filenames:\n",
    "        print(os.path.join(dirname, filename))\n",
    "\n",
    "# You can write up to 20GB to the current directory (/kaggle/working/) that gets preserved as output when you create a version using \"Save & Run All\" \n",
    "# You can also write temporary files to /kaggle/temp/, but they won't be saved outside of the current session"
   ]
  },
  {
   "cell_type": "code",
   "execution_count": 2,
   "id": "60e260ad",
   "metadata": {
    "execution": {
     "iopub.execute_input": "2022-08-27T13:15:35.950034Z",
     "iopub.status.busy": "2022-08-27T13:15:35.949193Z",
     "iopub.status.idle": "2022-08-27T13:15:35.981653Z",
     "shell.execute_reply": "2022-08-27T13:15:35.980797Z"
    },
    "papermill": {
     "duration": 0.055266,
     "end_time": "2022-08-27T13:15:35.984204",
     "exception": false,
     "start_time": "2022-08-27T13:15:35.928938",
     "status": "completed"
    },
    "tags": []
   },
   "outputs": [],
   "source": [
    "df = pd.read_csv(\"../input/house-rent-prediction-dataset/House_Rent_Dataset.csv\")"
   ]
  },
  {
   "cell_type": "code",
   "execution_count": 3,
   "id": "9e5b41d4",
   "metadata": {
    "execution": {
     "iopub.execute_input": "2022-08-27T13:15:36.004821Z",
     "iopub.status.busy": "2022-08-27T13:15:36.004527Z",
     "iopub.status.idle": "2022-08-27T13:15:36.033243Z",
     "shell.execute_reply": "2022-08-27T13:15:36.032233Z"
    },
    "papermill": {
     "duration": 0.040139,
     "end_time": "2022-08-27T13:15:36.035970",
     "exception": false,
     "start_time": "2022-08-27T13:15:35.995831",
     "status": "completed"
    },
    "tags": []
   },
   "outputs": [
    {
     "data": {
      "text/html": [
       "<div>\n",
       "<style scoped>\n",
       "    .dataframe tbody tr th:only-of-type {\n",
       "        vertical-align: middle;\n",
       "    }\n",
       "\n",
       "    .dataframe tbody tr th {\n",
       "        vertical-align: top;\n",
       "    }\n",
       "\n",
       "    .dataframe thead th {\n",
       "        text-align: right;\n",
       "    }\n",
       "</style>\n",
       "<table border=\"1\" class=\"dataframe\">\n",
       "  <thead>\n",
       "    <tr style=\"text-align: right;\">\n",
       "      <th></th>\n",
       "      <th>Posted On</th>\n",
       "      <th>BHK</th>\n",
       "      <th>Rent</th>\n",
       "      <th>Size</th>\n",
       "      <th>Floor</th>\n",
       "      <th>Area Type</th>\n",
       "      <th>Area Locality</th>\n",
       "      <th>City</th>\n",
       "      <th>Furnishing Status</th>\n",
       "      <th>Tenant Preferred</th>\n",
       "      <th>Bathroom</th>\n",
       "      <th>Point of Contact</th>\n",
       "    </tr>\n",
       "  </thead>\n",
       "  <tbody>\n",
       "    <tr>\n",
       "      <th>0</th>\n",
       "      <td>2022-05-18</td>\n",
       "      <td>2</td>\n",
       "      <td>10000</td>\n",
       "      <td>1100</td>\n",
       "      <td>Ground out of 2</td>\n",
       "      <td>Super Area</td>\n",
       "      <td>Bandel</td>\n",
       "      <td>Kolkata</td>\n",
       "      <td>Unfurnished</td>\n",
       "      <td>Bachelors/Family</td>\n",
       "      <td>2</td>\n",
       "      <td>Contact Owner</td>\n",
       "    </tr>\n",
       "    <tr>\n",
       "      <th>1</th>\n",
       "      <td>2022-05-13</td>\n",
       "      <td>2</td>\n",
       "      <td>20000</td>\n",
       "      <td>800</td>\n",
       "      <td>1 out of 3</td>\n",
       "      <td>Super Area</td>\n",
       "      <td>Phool Bagan, Kankurgachi</td>\n",
       "      <td>Kolkata</td>\n",
       "      <td>Semi-Furnished</td>\n",
       "      <td>Bachelors/Family</td>\n",
       "      <td>1</td>\n",
       "      <td>Contact Owner</td>\n",
       "    </tr>\n",
       "    <tr>\n",
       "      <th>2</th>\n",
       "      <td>2022-05-16</td>\n",
       "      <td>2</td>\n",
       "      <td>17000</td>\n",
       "      <td>1000</td>\n",
       "      <td>1 out of 3</td>\n",
       "      <td>Super Area</td>\n",
       "      <td>Salt Lake City Sector 2</td>\n",
       "      <td>Kolkata</td>\n",
       "      <td>Semi-Furnished</td>\n",
       "      <td>Bachelors/Family</td>\n",
       "      <td>1</td>\n",
       "      <td>Contact Owner</td>\n",
       "    </tr>\n",
       "    <tr>\n",
       "      <th>3</th>\n",
       "      <td>2022-07-04</td>\n",
       "      <td>2</td>\n",
       "      <td>10000</td>\n",
       "      <td>800</td>\n",
       "      <td>1 out of 2</td>\n",
       "      <td>Super Area</td>\n",
       "      <td>Dumdum Park</td>\n",
       "      <td>Kolkata</td>\n",
       "      <td>Unfurnished</td>\n",
       "      <td>Bachelors/Family</td>\n",
       "      <td>1</td>\n",
       "      <td>Contact Owner</td>\n",
       "    </tr>\n",
       "    <tr>\n",
       "      <th>4</th>\n",
       "      <td>2022-05-09</td>\n",
       "      <td>2</td>\n",
       "      <td>7500</td>\n",
       "      <td>850</td>\n",
       "      <td>1 out of 2</td>\n",
       "      <td>Carpet Area</td>\n",
       "      <td>South Dum Dum</td>\n",
       "      <td>Kolkata</td>\n",
       "      <td>Unfurnished</td>\n",
       "      <td>Bachelors</td>\n",
       "      <td>1</td>\n",
       "      <td>Contact Owner</td>\n",
       "    </tr>\n",
       "    <tr>\n",
       "      <th>...</th>\n",
       "      <td>...</td>\n",
       "      <td>...</td>\n",
       "      <td>...</td>\n",
       "      <td>...</td>\n",
       "      <td>...</td>\n",
       "      <td>...</td>\n",
       "      <td>...</td>\n",
       "      <td>...</td>\n",
       "      <td>...</td>\n",
       "      <td>...</td>\n",
       "      <td>...</td>\n",
       "      <td>...</td>\n",
       "    </tr>\n",
       "    <tr>\n",
       "      <th>4741</th>\n",
       "      <td>2022-05-18</td>\n",
       "      <td>2</td>\n",
       "      <td>15000</td>\n",
       "      <td>1000</td>\n",
       "      <td>3 out of 5</td>\n",
       "      <td>Carpet Area</td>\n",
       "      <td>Bandam Kommu</td>\n",
       "      <td>Hyderabad</td>\n",
       "      <td>Semi-Furnished</td>\n",
       "      <td>Bachelors/Family</td>\n",
       "      <td>2</td>\n",
       "      <td>Contact Owner</td>\n",
       "    </tr>\n",
       "    <tr>\n",
       "      <th>4742</th>\n",
       "      <td>2022-05-15</td>\n",
       "      <td>3</td>\n",
       "      <td>29000</td>\n",
       "      <td>2000</td>\n",
       "      <td>1 out of 4</td>\n",
       "      <td>Super Area</td>\n",
       "      <td>Manikonda, Hyderabad</td>\n",
       "      <td>Hyderabad</td>\n",
       "      <td>Semi-Furnished</td>\n",
       "      <td>Bachelors/Family</td>\n",
       "      <td>3</td>\n",
       "      <td>Contact Owner</td>\n",
       "    </tr>\n",
       "    <tr>\n",
       "      <th>4743</th>\n",
       "      <td>2022-07-10</td>\n",
       "      <td>3</td>\n",
       "      <td>35000</td>\n",
       "      <td>1750</td>\n",
       "      <td>3 out of 5</td>\n",
       "      <td>Carpet Area</td>\n",
       "      <td>Himayath Nagar, NH 7</td>\n",
       "      <td>Hyderabad</td>\n",
       "      <td>Semi-Furnished</td>\n",
       "      <td>Bachelors/Family</td>\n",
       "      <td>3</td>\n",
       "      <td>Contact Agent</td>\n",
       "    </tr>\n",
       "    <tr>\n",
       "      <th>4744</th>\n",
       "      <td>2022-07-06</td>\n",
       "      <td>3</td>\n",
       "      <td>45000</td>\n",
       "      <td>1500</td>\n",
       "      <td>23 out of 34</td>\n",
       "      <td>Carpet Area</td>\n",
       "      <td>Gachibowli</td>\n",
       "      <td>Hyderabad</td>\n",
       "      <td>Semi-Furnished</td>\n",
       "      <td>Family</td>\n",
       "      <td>2</td>\n",
       "      <td>Contact Agent</td>\n",
       "    </tr>\n",
       "    <tr>\n",
       "      <th>4745</th>\n",
       "      <td>2022-05-04</td>\n",
       "      <td>2</td>\n",
       "      <td>15000</td>\n",
       "      <td>1000</td>\n",
       "      <td>4 out of 5</td>\n",
       "      <td>Carpet Area</td>\n",
       "      <td>Suchitra Circle</td>\n",
       "      <td>Hyderabad</td>\n",
       "      <td>Unfurnished</td>\n",
       "      <td>Bachelors</td>\n",
       "      <td>2</td>\n",
       "      <td>Contact Owner</td>\n",
       "    </tr>\n",
       "  </tbody>\n",
       "</table>\n",
       "<p>4746 rows × 12 columns</p>\n",
       "</div>"
      ],
      "text/plain": [
       "       Posted On  BHK   Rent  Size            Floor    Area Type  \\\n",
       "0     2022-05-18    2  10000  1100  Ground out of 2   Super Area   \n",
       "1     2022-05-13    2  20000   800       1 out of 3   Super Area   \n",
       "2     2022-05-16    2  17000  1000       1 out of 3   Super Area   \n",
       "3     2022-07-04    2  10000   800       1 out of 2   Super Area   \n",
       "4     2022-05-09    2   7500   850       1 out of 2  Carpet Area   \n",
       "...          ...  ...    ...   ...              ...          ...   \n",
       "4741  2022-05-18    2  15000  1000       3 out of 5  Carpet Area   \n",
       "4742  2022-05-15    3  29000  2000       1 out of 4   Super Area   \n",
       "4743  2022-07-10    3  35000  1750       3 out of 5  Carpet Area   \n",
       "4744  2022-07-06    3  45000  1500     23 out of 34  Carpet Area   \n",
       "4745  2022-05-04    2  15000  1000       4 out of 5  Carpet Area   \n",
       "\n",
       "                 Area Locality       City Furnishing Status  Tenant Preferred  \\\n",
       "0                       Bandel    Kolkata       Unfurnished  Bachelors/Family   \n",
       "1     Phool Bagan, Kankurgachi    Kolkata    Semi-Furnished  Bachelors/Family   \n",
       "2      Salt Lake City Sector 2    Kolkata    Semi-Furnished  Bachelors/Family   \n",
       "3                  Dumdum Park    Kolkata       Unfurnished  Bachelors/Family   \n",
       "4                South Dum Dum    Kolkata       Unfurnished         Bachelors   \n",
       "...                        ...        ...               ...               ...   \n",
       "4741              Bandam Kommu  Hyderabad    Semi-Furnished  Bachelors/Family   \n",
       "4742      Manikonda, Hyderabad  Hyderabad    Semi-Furnished  Bachelors/Family   \n",
       "4743      Himayath Nagar, NH 7  Hyderabad    Semi-Furnished  Bachelors/Family   \n",
       "4744                Gachibowli  Hyderabad    Semi-Furnished            Family   \n",
       "4745           Suchitra Circle  Hyderabad       Unfurnished         Bachelors   \n",
       "\n",
       "      Bathroom Point of Contact  \n",
       "0            2    Contact Owner  \n",
       "1            1    Contact Owner  \n",
       "2            1    Contact Owner  \n",
       "3            1    Contact Owner  \n",
       "4            1    Contact Owner  \n",
       "...        ...              ...  \n",
       "4741         2    Contact Owner  \n",
       "4742         3    Contact Owner  \n",
       "4743         3    Contact Agent  \n",
       "4744         2    Contact Agent  \n",
       "4745         2    Contact Owner  \n",
       "\n",
       "[4746 rows x 12 columns]"
      ]
     },
     "execution_count": 3,
     "metadata": {},
     "output_type": "execute_result"
    }
   ],
   "source": [
    "df"
   ]
  },
  {
   "cell_type": "code",
   "execution_count": 4,
   "id": "a75bf300",
   "metadata": {
    "execution": {
     "iopub.execute_input": "2022-08-27T13:15:36.053055Z",
     "iopub.status.busy": "2022-08-27T13:15:36.052762Z",
     "iopub.status.idle": "2022-08-27T13:15:36.062982Z",
     "shell.execute_reply": "2022-08-27T13:15:36.062144Z"
    },
    "papermill": {
     "duration": 0.020928,
     "end_time": "2022-08-27T13:15:36.065010",
     "exception": false,
     "start_time": "2022-08-27T13:15:36.044082",
     "status": "completed"
    },
    "tags": []
   },
   "outputs": [],
   "source": [
    "df.drop(\"Posted On\", axis=1, inplace=True)"
   ]
  },
  {
   "cell_type": "code",
   "execution_count": 5,
   "id": "bcd9572e",
   "metadata": {
    "execution": {
     "iopub.execute_input": "2022-08-27T13:15:36.082534Z",
     "iopub.status.busy": "2022-08-27T13:15:36.082277Z",
     "iopub.status.idle": "2022-08-27T13:15:36.087883Z",
     "shell.execute_reply": "2022-08-27T13:15:36.087028Z"
    },
    "papermill": {
     "duration": 0.016356,
     "end_time": "2022-08-27T13:15:36.089973",
     "exception": false,
     "start_time": "2022-08-27T13:15:36.073617",
     "status": "completed"
    },
    "tags": []
   },
   "outputs": [],
   "source": [
    "df.drop(\"Point of Contact\", axis=1, inplace=True)"
   ]
  },
  {
   "cell_type": "code",
   "execution_count": 6,
   "id": "a0b277c2",
   "metadata": {
    "execution": {
     "iopub.execute_input": "2022-08-27T13:15:36.106621Z",
     "iopub.status.busy": "2022-08-27T13:15:36.106372Z",
     "iopub.status.idle": "2022-08-27T13:15:36.115287Z",
     "shell.execute_reply": "2022-08-27T13:15:36.114438Z"
    },
    "papermill": {
     "duration": 0.019369,
     "end_time": "2022-08-27T13:15:36.117256",
     "exception": false,
     "start_time": "2022-08-27T13:15:36.097887",
     "status": "completed"
    },
    "tags": []
   },
   "outputs": [
    {
     "data": {
      "text/plain": [
       "array(['Kolkata', 'Mumbai', 'Bangalore', 'Delhi', 'Chennai', 'Hyderabad'],\n",
       "      dtype=object)"
      ]
     },
     "execution_count": 6,
     "metadata": {},
     "output_type": "execute_result"
    }
   ],
   "source": [
    "df[\"City\"].unique()"
   ]
  },
  {
   "cell_type": "code",
   "execution_count": 7,
   "id": "d6ecf62b",
   "metadata": {
    "execution": {
     "iopub.execute_input": "2022-08-27T13:15:36.134198Z",
     "iopub.status.busy": "2022-08-27T13:15:36.133950Z",
     "iopub.status.idle": "2022-08-27T13:15:36.147733Z",
     "shell.execute_reply": "2022-08-27T13:15:36.146853Z"
    },
    "papermill": {
     "duration": 0.024556,
     "end_time": "2022-08-27T13:15:36.149679",
     "exception": false,
     "start_time": "2022-08-27T13:15:36.125123",
     "status": "completed"
    },
    "tags": []
   },
   "outputs": [
    {
     "data": {
      "text/html": [
       "<div>\n",
       "<style scoped>\n",
       "    .dataframe tbody tr th:only-of-type {\n",
       "        vertical-align: middle;\n",
       "    }\n",
       "\n",
       "    .dataframe tbody tr th {\n",
       "        vertical-align: top;\n",
       "    }\n",
       "\n",
       "    .dataframe thead th {\n",
       "        text-align: right;\n",
       "    }\n",
       "</style>\n",
       "<table border=\"1\" class=\"dataframe\">\n",
       "  <thead>\n",
       "    <tr style=\"text-align: right;\">\n",
       "      <th></th>\n",
       "      <th>BHK</th>\n",
       "      <th>Rent</th>\n",
       "      <th>Size</th>\n",
       "      <th>Floor</th>\n",
       "      <th>Area Type</th>\n",
       "      <th>Area Locality</th>\n",
       "      <th>City</th>\n",
       "      <th>Furnishing Status</th>\n",
       "      <th>Tenant Preferred</th>\n",
       "      <th>Bathroom</th>\n",
       "    </tr>\n",
       "  </thead>\n",
       "  <tbody>\n",
       "    <tr>\n",
       "      <th>0</th>\n",
       "      <td>2</td>\n",
       "      <td>10000</td>\n",
       "      <td>1100</td>\n",
       "      <td>Ground out of 2</td>\n",
       "      <td>Super Area</td>\n",
       "      <td>Bandel</td>\n",
       "      <td>Kolkata</td>\n",
       "      <td>Unfurnished</td>\n",
       "      <td>Bachelors/Family</td>\n",
       "      <td>2</td>\n",
       "    </tr>\n",
       "    <tr>\n",
       "      <th>1</th>\n",
       "      <td>2</td>\n",
       "      <td>20000</td>\n",
       "      <td>800</td>\n",
       "      <td>1 out of 3</td>\n",
       "      <td>Super Area</td>\n",
       "      <td>Phool Bagan, Kankurgachi</td>\n",
       "      <td>Kolkata</td>\n",
       "      <td>Semi-Furnished</td>\n",
       "      <td>Bachelors/Family</td>\n",
       "      <td>1</td>\n",
       "    </tr>\n",
       "    <tr>\n",
       "      <th>2</th>\n",
       "      <td>2</td>\n",
       "      <td>17000</td>\n",
       "      <td>1000</td>\n",
       "      <td>1 out of 3</td>\n",
       "      <td>Super Area</td>\n",
       "      <td>Salt Lake City Sector 2</td>\n",
       "      <td>Kolkata</td>\n",
       "      <td>Semi-Furnished</td>\n",
       "      <td>Bachelors/Family</td>\n",
       "      <td>1</td>\n",
       "    </tr>\n",
       "    <tr>\n",
       "      <th>3</th>\n",
       "      <td>2</td>\n",
       "      <td>10000</td>\n",
       "      <td>800</td>\n",
       "      <td>1 out of 2</td>\n",
       "      <td>Super Area</td>\n",
       "      <td>Dumdum Park</td>\n",
       "      <td>Kolkata</td>\n",
       "      <td>Unfurnished</td>\n",
       "      <td>Bachelors/Family</td>\n",
       "      <td>1</td>\n",
       "    </tr>\n",
       "    <tr>\n",
       "      <th>4</th>\n",
       "      <td>2</td>\n",
       "      <td>7500</td>\n",
       "      <td>850</td>\n",
       "      <td>1 out of 2</td>\n",
       "      <td>Carpet Area</td>\n",
       "      <td>South Dum Dum</td>\n",
       "      <td>Kolkata</td>\n",
       "      <td>Unfurnished</td>\n",
       "      <td>Bachelors</td>\n",
       "      <td>1</td>\n",
       "    </tr>\n",
       "  </tbody>\n",
       "</table>\n",
       "</div>"
      ],
      "text/plain": [
       "   BHK   Rent  Size            Floor    Area Type             Area Locality  \\\n",
       "0    2  10000  1100  Ground out of 2   Super Area                    Bandel   \n",
       "1    2  20000   800       1 out of 3   Super Area  Phool Bagan, Kankurgachi   \n",
       "2    2  17000  1000       1 out of 3   Super Area   Salt Lake City Sector 2   \n",
       "3    2  10000   800       1 out of 2   Super Area               Dumdum Park   \n",
       "4    2   7500   850       1 out of 2  Carpet Area             South Dum Dum   \n",
       "\n",
       "      City Furnishing Status  Tenant Preferred  Bathroom  \n",
       "0  Kolkata       Unfurnished  Bachelors/Family         2  \n",
       "1  Kolkata    Semi-Furnished  Bachelors/Family         1  \n",
       "2  Kolkata    Semi-Furnished  Bachelors/Family         1  \n",
       "3  Kolkata       Unfurnished  Bachelors/Family         1  \n",
       "4  Kolkata       Unfurnished         Bachelors         1  "
      ]
     },
     "execution_count": 7,
     "metadata": {},
     "output_type": "execute_result"
    }
   ],
   "source": [
    "df.head()"
   ]
  },
  {
   "cell_type": "code",
   "execution_count": 8,
   "id": "195e505c",
   "metadata": {
    "execution": {
     "iopub.execute_input": "2022-08-27T13:15:36.169313Z",
     "iopub.status.busy": "2022-08-27T13:15:36.167770Z",
     "iopub.status.idle": "2022-08-27T13:15:36.175912Z",
     "shell.execute_reply": "2022-08-27T13:15:36.175111Z"
    },
    "papermill": {
     "duration": 0.019112,
     "end_time": "2022-08-27T13:15:36.177887",
     "exception": false,
     "start_time": "2022-08-27T13:15:36.158775",
     "status": "completed"
    },
    "tags": []
   },
   "outputs": [
    {
     "data": {
      "text/plain": [
       "array(['Bachelors/Family', 'Bachelors', 'Family'], dtype=object)"
      ]
     },
     "execution_count": 8,
     "metadata": {},
     "output_type": "execute_result"
    }
   ],
   "source": [
    "df['Tenant Preferred'].unique()"
   ]
  },
  {
   "cell_type": "code",
   "execution_count": 9,
   "id": "c492b581",
   "metadata": {
    "execution": {
     "iopub.execute_input": "2022-08-27T13:15:36.196608Z",
     "iopub.status.busy": "2022-08-27T13:15:36.195847Z",
     "iopub.status.idle": "2022-08-27T13:15:36.201399Z",
     "shell.execute_reply": "2022-08-27T13:15:36.200574Z"
    },
    "papermill": {
     "duration": 0.016762,
     "end_time": "2022-08-27T13:15:36.203332",
     "exception": false,
     "start_time": "2022-08-27T13:15:36.186570",
     "status": "completed"
    },
    "tags": []
   },
   "outputs": [],
   "source": [
    "df.drop(\"Area Locality\", axis=1, inplace=True)"
   ]
  },
  {
   "cell_type": "code",
   "execution_count": 10,
   "id": "8993b452",
   "metadata": {
    "execution": {
     "iopub.execute_input": "2022-08-27T13:15:36.222062Z",
     "iopub.status.busy": "2022-08-27T13:15:36.220559Z",
     "iopub.status.idle": "2022-08-27T13:15:36.232856Z",
     "shell.execute_reply": "2022-08-27T13:15:36.231924Z"
    },
    "papermill": {
     "duration": 0.023317,
     "end_time": "2022-08-27T13:15:36.234750",
     "exception": false,
     "start_time": "2022-08-27T13:15:36.211433",
     "status": "completed"
    },
    "tags": []
   },
   "outputs": [
    {
     "data": {
      "text/html": [
       "<div>\n",
       "<style scoped>\n",
       "    .dataframe tbody tr th:only-of-type {\n",
       "        vertical-align: middle;\n",
       "    }\n",
       "\n",
       "    .dataframe tbody tr th {\n",
       "        vertical-align: top;\n",
       "    }\n",
       "\n",
       "    .dataframe thead th {\n",
       "        text-align: right;\n",
       "    }\n",
       "</style>\n",
       "<table border=\"1\" class=\"dataframe\">\n",
       "  <thead>\n",
       "    <tr style=\"text-align: right;\">\n",
       "      <th></th>\n",
       "      <th>BHK</th>\n",
       "      <th>Rent</th>\n",
       "      <th>Size</th>\n",
       "      <th>Floor</th>\n",
       "      <th>Area Type</th>\n",
       "      <th>City</th>\n",
       "      <th>Furnishing Status</th>\n",
       "      <th>Tenant Preferred</th>\n",
       "      <th>Bathroom</th>\n",
       "    </tr>\n",
       "  </thead>\n",
       "  <tbody>\n",
       "    <tr>\n",
       "      <th>0</th>\n",
       "      <td>2</td>\n",
       "      <td>10000</td>\n",
       "      <td>1100</td>\n",
       "      <td>Ground out of 2</td>\n",
       "      <td>Super Area</td>\n",
       "      <td>Kolkata</td>\n",
       "      <td>Unfurnished</td>\n",
       "      <td>Bachelors/Family</td>\n",
       "      <td>2</td>\n",
       "    </tr>\n",
       "    <tr>\n",
       "      <th>1</th>\n",
       "      <td>2</td>\n",
       "      <td>20000</td>\n",
       "      <td>800</td>\n",
       "      <td>1 out of 3</td>\n",
       "      <td>Super Area</td>\n",
       "      <td>Kolkata</td>\n",
       "      <td>Semi-Furnished</td>\n",
       "      <td>Bachelors/Family</td>\n",
       "      <td>1</td>\n",
       "    </tr>\n",
       "    <tr>\n",
       "      <th>2</th>\n",
       "      <td>2</td>\n",
       "      <td>17000</td>\n",
       "      <td>1000</td>\n",
       "      <td>1 out of 3</td>\n",
       "      <td>Super Area</td>\n",
       "      <td>Kolkata</td>\n",
       "      <td>Semi-Furnished</td>\n",
       "      <td>Bachelors/Family</td>\n",
       "      <td>1</td>\n",
       "    </tr>\n",
       "    <tr>\n",
       "      <th>3</th>\n",
       "      <td>2</td>\n",
       "      <td>10000</td>\n",
       "      <td>800</td>\n",
       "      <td>1 out of 2</td>\n",
       "      <td>Super Area</td>\n",
       "      <td>Kolkata</td>\n",
       "      <td>Unfurnished</td>\n",
       "      <td>Bachelors/Family</td>\n",
       "      <td>1</td>\n",
       "    </tr>\n",
       "    <tr>\n",
       "      <th>4</th>\n",
       "      <td>2</td>\n",
       "      <td>7500</td>\n",
       "      <td>850</td>\n",
       "      <td>1 out of 2</td>\n",
       "      <td>Carpet Area</td>\n",
       "      <td>Kolkata</td>\n",
       "      <td>Unfurnished</td>\n",
       "      <td>Bachelors</td>\n",
       "      <td>1</td>\n",
       "    </tr>\n",
       "  </tbody>\n",
       "</table>\n",
       "</div>"
      ],
      "text/plain": [
       "   BHK   Rent  Size            Floor    Area Type     City Furnishing Status  \\\n",
       "0    2  10000  1100  Ground out of 2   Super Area  Kolkata       Unfurnished   \n",
       "1    2  20000   800       1 out of 3   Super Area  Kolkata    Semi-Furnished   \n",
       "2    2  17000  1000       1 out of 3   Super Area  Kolkata    Semi-Furnished   \n",
       "3    2  10000   800       1 out of 2   Super Area  Kolkata       Unfurnished   \n",
       "4    2   7500   850       1 out of 2  Carpet Area  Kolkata       Unfurnished   \n",
       "\n",
       "   Tenant Preferred  Bathroom  \n",
       "0  Bachelors/Family         2  \n",
       "1  Bachelors/Family         1  \n",
       "2  Bachelors/Family         1  \n",
       "3  Bachelors/Family         1  \n",
       "4         Bachelors         1  "
      ]
     },
     "execution_count": 10,
     "metadata": {},
     "output_type": "execute_result"
    }
   ],
   "source": [
    "df.head()"
   ]
  },
  {
   "cell_type": "code",
   "execution_count": 11,
   "id": "1dfd98b9",
   "metadata": {
    "execution": {
     "iopub.execute_input": "2022-08-27T13:15:36.253209Z",
     "iopub.status.busy": "2022-08-27T13:15:36.252917Z",
     "iopub.status.idle": "2022-08-27T13:15:37.118033Z",
     "shell.execute_reply": "2022-08-27T13:15:37.116930Z"
    },
    "papermill": {
     "duration": 0.877236,
     "end_time": "2022-08-27T13:15:37.120829",
     "exception": false,
     "start_time": "2022-08-27T13:15:36.243593",
     "status": "completed"
    },
    "tags": []
   },
   "outputs": [],
   "source": [
    "from sklearn import preprocessing\n",
    "label_encoder = preprocessing.LabelEncoder()\n",
    "df[\"Furnishing Status\"] = label_encoder.fit_transform(df[\"Furnishing Status\"])"
   ]
  },
  {
   "cell_type": "code",
   "execution_count": 12,
   "id": "2e94a707",
   "metadata": {
    "execution": {
     "iopub.execute_input": "2022-08-27T13:15:37.139241Z",
     "iopub.status.busy": "2022-08-27T13:15:37.138950Z",
     "iopub.status.idle": "2022-08-27T13:15:37.152303Z",
     "shell.execute_reply": "2022-08-27T13:15:37.151465Z"
    },
    "papermill": {
     "duration": 0.024797,
     "end_time": "2022-08-27T13:15:37.154341",
     "exception": false,
     "start_time": "2022-08-27T13:15:37.129544",
     "status": "completed"
    },
    "tags": []
   },
   "outputs": [
    {
     "data": {
      "text/html": [
       "<div>\n",
       "<style scoped>\n",
       "    .dataframe tbody tr th:only-of-type {\n",
       "        vertical-align: middle;\n",
       "    }\n",
       "\n",
       "    .dataframe tbody tr th {\n",
       "        vertical-align: top;\n",
       "    }\n",
       "\n",
       "    .dataframe thead th {\n",
       "        text-align: right;\n",
       "    }\n",
       "</style>\n",
       "<table border=\"1\" class=\"dataframe\">\n",
       "  <thead>\n",
       "    <tr style=\"text-align: right;\">\n",
       "      <th></th>\n",
       "      <th>BHK</th>\n",
       "      <th>Rent</th>\n",
       "      <th>Size</th>\n",
       "      <th>Floor</th>\n",
       "      <th>Area Type</th>\n",
       "      <th>City</th>\n",
       "      <th>Furnishing Status</th>\n",
       "      <th>Tenant Preferred</th>\n",
       "      <th>Bathroom</th>\n",
       "    </tr>\n",
       "  </thead>\n",
       "  <tbody>\n",
       "    <tr>\n",
       "      <th>0</th>\n",
       "      <td>2</td>\n",
       "      <td>10000</td>\n",
       "      <td>1100</td>\n",
       "      <td>Ground out of 2</td>\n",
       "      <td>Super Area</td>\n",
       "      <td>Kolkata</td>\n",
       "      <td>2</td>\n",
       "      <td>Bachelors/Family</td>\n",
       "      <td>2</td>\n",
       "    </tr>\n",
       "    <tr>\n",
       "      <th>1</th>\n",
       "      <td>2</td>\n",
       "      <td>20000</td>\n",
       "      <td>800</td>\n",
       "      <td>1 out of 3</td>\n",
       "      <td>Super Area</td>\n",
       "      <td>Kolkata</td>\n",
       "      <td>1</td>\n",
       "      <td>Bachelors/Family</td>\n",
       "      <td>1</td>\n",
       "    </tr>\n",
       "    <tr>\n",
       "      <th>2</th>\n",
       "      <td>2</td>\n",
       "      <td>17000</td>\n",
       "      <td>1000</td>\n",
       "      <td>1 out of 3</td>\n",
       "      <td>Super Area</td>\n",
       "      <td>Kolkata</td>\n",
       "      <td>1</td>\n",
       "      <td>Bachelors/Family</td>\n",
       "      <td>1</td>\n",
       "    </tr>\n",
       "    <tr>\n",
       "      <th>3</th>\n",
       "      <td>2</td>\n",
       "      <td>10000</td>\n",
       "      <td>800</td>\n",
       "      <td>1 out of 2</td>\n",
       "      <td>Super Area</td>\n",
       "      <td>Kolkata</td>\n",
       "      <td>2</td>\n",
       "      <td>Bachelors/Family</td>\n",
       "      <td>1</td>\n",
       "    </tr>\n",
       "    <tr>\n",
       "      <th>4</th>\n",
       "      <td>2</td>\n",
       "      <td>7500</td>\n",
       "      <td>850</td>\n",
       "      <td>1 out of 2</td>\n",
       "      <td>Carpet Area</td>\n",
       "      <td>Kolkata</td>\n",
       "      <td>2</td>\n",
       "      <td>Bachelors</td>\n",
       "      <td>1</td>\n",
       "    </tr>\n",
       "  </tbody>\n",
       "</table>\n",
       "</div>"
      ],
      "text/plain": [
       "   BHK   Rent  Size            Floor    Area Type     City  Furnishing Status  \\\n",
       "0    2  10000  1100  Ground out of 2   Super Area  Kolkata                  2   \n",
       "1    2  20000   800       1 out of 3   Super Area  Kolkata                  1   \n",
       "2    2  17000  1000       1 out of 3   Super Area  Kolkata                  1   \n",
       "3    2  10000   800       1 out of 2   Super Area  Kolkata                  2   \n",
       "4    2   7500   850       1 out of 2  Carpet Area  Kolkata                  2   \n",
       "\n",
       "   Tenant Preferred  Bathroom  \n",
       "0  Bachelors/Family         2  \n",
       "1  Bachelors/Family         1  \n",
       "2  Bachelors/Family         1  \n",
       "3  Bachelors/Family         1  \n",
       "4         Bachelors         1  "
      ]
     },
     "execution_count": 12,
     "metadata": {},
     "output_type": "execute_result"
    }
   ],
   "source": [
    "df.head()"
   ]
  },
  {
   "cell_type": "code",
   "execution_count": 13,
   "id": "35e443e6",
   "metadata": {
    "execution": {
     "iopub.execute_input": "2022-08-27T13:15:37.172681Z",
     "iopub.status.busy": "2022-08-27T13:15:37.172416Z",
     "iopub.status.idle": "2022-08-27T13:15:37.178478Z",
     "shell.execute_reply": "2022-08-27T13:15:37.177572Z"
    },
    "papermill": {
     "duration": 0.017495,
     "end_time": "2022-08-27T13:15:37.180451",
     "exception": false,
     "start_time": "2022-08-27T13:15:37.162956",
     "status": "completed"
    },
    "tags": []
   },
   "outputs": [
    {
     "data": {
      "text/plain": [
       "array(['Super Area', 'Carpet Area', 'Built Area'], dtype=object)"
      ]
     },
     "execution_count": 13,
     "metadata": {},
     "output_type": "execute_result"
    }
   ],
   "source": [
    "df[\"Area Type\"].unique()"
   ]
  },
  {
   "cell_type": "code",
   "execution_count": 14,
   "id": "926788ae",
   "metadata": {
    "execution": {
     "iopub.execute_input": "2022-08-27T13:15:37.198836Z",
     "iopub.status.busy": "2022-08-27T13:15:37.198557Z",
     "iopub.status.idle": "2022-08-27T13:15:37.205308Z",
     "shell.execute_reply": "2022-08-27T13:15:37.204444Z"
    },
    "papermill": {
     "duration": 0.018343,
     "end_time": "2022-08-27T13:15:37.207415",
     "exception": false,
     "start_time": "2022-08-27T13:15:37.189072",
     "status": "completed"
    },
    "tags": []
   },
   "outputs": [],
   "source": [
    "df[\"Area Type\"] = label_encoder.fit_transform(df[\"Area Type\"])"
   ]
  },
  {
   "cell_type": "code",
   "execution_count": 15,
   "id": "136d304c",
   "metadata": {
    "execution": {
     "iopub.execute_input": "2022-08-27T13:15:37.226279Z",
     "iopub.status.busy": "2022-08-27T13:15:37.225522Z",
     "iopub.status.idle": "2022-08-27T13:15:37.236457Z",
     "shell.execute_reply": "2022-08-27T13:15:37.235491Z"
    },
    "papermill": {
     "duration": 0.022439,
     "end_time": "2022-08-27T13:15:37.238502",
     "exception": false,
     "start_time": "2022-08-27T13:15:37.216063",
     "status": "completed"
    },
    "tags": []
   },
   "outputs": [
    {
     "data": {
      "text/html": [
       "<div>\n",
       "<style scoped>\n",
       "    .dataframe tbody tr th:only-of-type {\n",
       "        vertical-align: middle;\n",
       "    }\n",
       "\n",
       "    .dataframe tbody tr th {\n",
       "        vertical-align: top;\n",
       "    }\n",
       "\n",
       "    .dataframe thead th {\n",
       "        text-align: right;\n",
       "    }\n",
       "</style>\n",
       "<table border=\"1\" class=\"dataframe\">\n",
       "  <thead>\n",
       "    <tr style=\"text-align: right;\">\n",
       "      <th></th>\n",
       "      <th>BHK</th>\n",
       "      <th>Rent</th>\n",
       "      <th>Size</th>\n",
       "      <th>Floor</th>\n",
       "      <th>Area Type</th>\n",
       "      <th>City</th>\n",
       "      <th>Furnishing Status</th>\n",
       "      <th>Tenant Preferred</th>\n",
       "      <th>Bathroom</th>\n",
       "    </tr>\n",
       "  </thead>\n",
       "  <tbody>\n",
       "    <tr>\n",
       "      <th>0</th>\n",
       "      <td>2</td>\n",
       "      <td>10000</td>\n",
       "      <td>1100</td>\n",
       "      <td>Ground out of 2</td>\n",
       "      <td>2</td>\n",
       "      <td>Kolkata</td>\n",
       "      <td>2</td>\n",
       "      <td>Bachelors/Family</td>\n",
       "      <td>2</td>\n",
       "    </tr>\n",
       "    <tr>\n",
       "      <th>1</th>\n",
       "      <td>2</td>\n",
       "      <td>20000</td>\n",
       "      <td>800</td>\n",
       "      <td>1 out of 3</td>\n",
       "      <td>2</td>\n",
       "      <td>Kolkata</td>\n",
       "      <td>1</td>\n",
       "      <td>Bachelors/Family</td>\n",
       "      <td>1</td>\n",
       "    </tr>\n",
       "    <tr>\n",
       "      <th>2</th>\n",
       "      <td>2</td>\n",
       "      <td>17000</td>\n",
       "      <td>1000</td>\n",
       "      <td>1 out of 3</td>\n",
       "      <td>2</td>\n",
       "      <td>Kolkata</td>\n",
       "      <td>1</td>\n",
       "      <td>Bachelors/Family</td>\n",
       "      <td>1</td>\n",
       "    </tr>\n",
       "    <tr>\n",
       "      <th>3</th>\n",
       "      <td>2</td>\n",
       "      <td>10000</td>\n",
       "      <td>800</td>\n",
       "      <td>1 out of 2</td>\n",
       "      <td>2</td>\n",
       "      <td>Kolkata</td>\n",
       "      <td>2</td>\n",
       "      <td>Bachelors/Family</td>\n",
       "      <td>1</td>\n",
       "    </tr>\n",
       "    <tr>\n",
       "      <th>4</th>\n",
       "      <td>2</td>\n",
       "      <td>7500</td>\n",
       "      <td>850</td>\n",
       "      <td>1 out of 2</td>\n",
       "      <td>1</td>\n",
       "      <td>Kolkata</td>\n",
       "      <td>2</td>\n",
       "      <td>Bachelors</td>\n",
       "      <td>1</td>\n",
       "    </tr>\n",
       "  </tbody>\n",
       "</table>\n",
       "</div>"
      ],
      "text/plain": [
       "   BHK   Rent  Size            Floor  Area Type     City  Furnishing Status  \\\n",
       "0    2  10000  1100  Ground out of 2          2  Kolkata                  2   \n",
       "1    2  20000   800       1 out of 3          2  Kolkata                  1   \n",
       "2    2  17000  1000       1 out of 3          2  Kolkata                  1   \n",
       "3    2  10000   800       1 out of 2          2  Kolkata                  2   \n",
       "4    2   7500   850       1 out of 2          1  Kolkata                  2   \n",
       "\n",
       "   Tenant Preferred  Bathroom  \n",
       "0  Bachelors/Family         2  \n",
       "1  Bachelors/Family         1  \n",
       "2  Bachelors/Family         1  \n",
       "3  Bachelors/Family         1  \n",
       "4         Bachelors         1  "
      ]
     },
     "execution_count": 15,
     "metadata": {},
     "output_type": "execute_result"
    }
   ],
   "source": [
    "df.head()"
   ]
  },
  {
   "cell_type": "code",
   "execution_count": 16,
   "id": "f8c1f11c",
   "metadata": {
    "execution": {
     "iopub.execute_input": "2022-08-27T13:15:37.257497Z",
     "iopub.status.busy": "2022-08-27T13:15:37.257180Z",
     "iopub.status.idle": "2022-08-27T13:15:37.266249Z",
     "shell.execute_reply": "2022-08-27T13:15:37.265244Z"
    },
    "papermill": {
     "duration": 0.021085,
     "end_time": "2022-08-27T13:15:37.268408",
     "exception": false,
     "start_time": "2022-08-27T13:15:37.247323",
     "status": "completed"
    },
    "tags": []
   },
   "outputs": [
    {
     "data": {
      "text/plain": [
       "0         Kolkata\n",
       "1         Kolkata\n",
       "2         Kolkata\n",
       "3         Kolkata\n",
       "4         Kolkata\n",
       "          ...    \n",
       "4741    Hyderabad\n",
       "4742    Hyderabad\n",
       "4743    Hyderabad\n",
       "4744    Hyderabad\n",
       "4745    Hyderabad\n",
       "Name: City, Length: 4746, dtype: object"
      ]
     },
     "execution_count": 16,
     "metadata": {},
     "output_type": "execute_result"
    }
   ],
   "source": [
    "df['City']"
   ]
  },
  {
   "cell_type": "code",
   "execution_count": 17,
   "id": "d8fc2991",
   "metadata": {
    "execution": {
     "iopub.execute_input": "2022-08-27T13:15:37.287580Z",
     "iopub.status.busy": "2022-08-27T13:15:37.287317Z",
     "iopub.status.idle": "2022-08-27T13:15:37.300135Z",
     "shell.execute_reply": "2022-08-27T13:15:37.299231Z"
    },
    "papermill": {
     "duration": 0.024543,
     "end_time": "2022-08-27T13:15:37.302064",
     "exception": false,
     "start_time": "2022-08-27T13:15:37.277521",
     "status": "completed"
    },
    "tags": []
   },
   "outputs": [],
   "source": [
    "from sklearn.preprocessing import OneHotEncoder\n",
    "\n",
    "onehotencoder = OneHotEncoder()\n",
    "#reshape the 1-D city array to 2-D as fit_transform expects 2-D and finally fit the object \n",
    "x = pd.DataFrame(onehotencoder.fit_transform(df[['City']]).toarray())\n",
    " \n",
    "df = df.join(x)"
   ]
  },
  {
   "cell_type": "code",
   "execution_count": 18,
   "id": "04d29547",
   "metadata": {
    "execution": {
     "iopub.execute_input": "2022-08-27T13:15:37.321390Z",
     "iopub.status.busy": "2022-08-27T13:15:37.321113Z",
     "iopub.status.idle": "2022-08-27T13:15:37.339655Z",
     "shell.execute_reply": "2022-08-27T13:15:37.338619Z"
    },
    "papermill": {
     "duration": 0.030828,
     "end_time": "2022-08-27T13:15:37.341977",
     "exception": false,
     "start_time": "2022-08-27T13:15:37.311149",
     "status": "completed"
    },
    "tags": []
   },
   "outputs": [
    {
     "data": {
      "text/html": [
       "<div>\n",
       "<style scoped>\n",
       "    .dataframe tbody tr th:only-of-type {\n",
       "        vertical-align: middle;\n",
       "    }\n",
       "\n",
       "    .dataframe tbody tr th {\n",
       "        vertical-align: top;\n",
       "    }\n",
       "\n",
       "    .dataframe thead th {\n",
       "        text-align: right;\n",
       "    }\n",
       "</style>\n",
       "<table border=\"1\" class=\"dataframe\">\n",
       "  <thead>\n",
       "    <tr style=\"text-align: right;\">\n",
       "      <th></th>\n",
       "      <th>BHK</th>\n",
       "      <th>Rent</th>\n",
       "      <th>Size</th>\n",
       "      <th>Floor</th>\n",
       "      <th>Area Type</th>\n",
       "      <th>City</th>\n",
       "      <th>Furnishing Status</th>\n",
       "      <th>Tenant Preferred</th>\n",
       "      <th>Bathroom</th>\n",
       "      <th>0</th>\n",
       "      <th>1</th>\n",
       "      <th>2</th>\n",
       "      <th>3</th>\n",
       "      <th>4</th>\n",
       "      <th>5</th>\n",
       "    </tr>\n",
       "  </thead>\n",
       "  <tbody>\n",
       "    <tr>\n",
       "      <th>0</th>\n",
       "      <td>2</td>\n",
       "      <td>10000</td>\n",
       "      <td>1100</td>\n",
       "      <td>Ground out of 2</td>\n",
       "      <td>2</td>\n",
       "      <td>Kolkata</td>\n",
       "      <td>2</td>\n",
       "      <td>Bachelors/Family</td>\n",
       "      <td>2</td>\n",
       "      <td>0.0</td>\n",
       "      <td>0.0</td>\n",
       "      <td>0.0</td>\n",
       "      <td>0.0</td>\n",
       "      <td>1.0</td>\n",
       "      <td>0.0</td>\n",
       "    </tr>\n",
       "    <tr>\n",
       "      <th>1</th>\n",
       "      <td>2</td>\n",
       "      <td>20000</td>\n",
       "      <td>800</td>\n",
       "      <td>1 out of 3</td>\n",
       "      <td>2</td>\n",
       "      <td>Kolkata</td>\n",
       "      <td>1</td>\n",
       "      <td>Bachelors/Family</td>\n",
       "      <td>1</td>\n",
       "      <td>0.0</td>\n",
       "      <td>0.0</td>\n",
       "      <td>0.0</td>\n",
       "      <td>0.0</td>\n",
       "      <td>1.0</td>\n",
       "      <td>0.0</td>\n",
       "    </tr>\n",
       "    <tr>\n",
       "      <th>2</th>\n",
       "      <td>2</td>\n",
       "      <td>17000</td>\n",
       "      <td>1000</td>\n",
       "      <td>1 out of 3</td>\n",
       "      <td>2</td>\n",
       "      <td>Kolkata</td>\n",
       "      <td>1</td>\n",
       "      <td>Bachelors/Family</td>\n",
       "      <td>1</td>\n",
       "      <td>0.0</td>\n",
       "      <td>0.0</td>\n",
       "      <td>0.0</td>\n",
       "      <td>0.0</td>\n",
       "      <td>1.0</td>\n",
       "      <td>0.0</td>\n",
       "    </tr>\n",
       "    <tr>\n",
       "      <th>3</th>\n",
       "      <td>2</td>\n",
       "      <td>10000</td>\n",
       "      <td>800</td>\n",
       "      <td>1 out of 2</td>\n",
       "      <td>2</td>\n",
       "      <td>Kolkata</td>\n",
       "      <td>2</td>\n",
       "      <td>Bachelors/Family</td>\n",
       "      <td>1</td>\n",
       "      <td>0.0</td>\n",
       "      <td>0.0</td>\n",
       "      <td>0.0</td>\n",
       "      <td>0.0</td>\n",
       "      <td>1.0</td>\n",
       "      <td>0.0</td>\n",
       "    </tr>\n",
       "    <tr>\n",
       "      <th>4</th>\n",
       "      <td>2</td>\n",
       "      <td>7500</td>\n",
       "      <td>850</td>\n",
       "      <td>1 out of 2</td>\n",
       "      <td>1</td>\n",
       "      <td>Kolkata</td>\n",
       "      <td>2</td>\n",
       "      <td>Bachelors</td>\n",
       "      <td>1</td>\n",
       "      <td>0.0</td>\n",
       "      <td>0.0</td>\n",
       "      <td>0.0</td>\n",
       "      <td>0.0</td>\n",
       "      <td>1.0</td>\n",
       "      <td>0.0</td>\n",
       "    </tr>\n",
       "  </tbody>\n",
       "</table>\n",
       "</div>"
      ],
      "text/plain": [
       "   BHK   Rent  Size            Floor  Area Type     City  Furnishing Status  \\\n",
       "0    2  10000  1100  Ground out of 2          2  Kolkata                  2   \n",
       "1    2  20000   800       1 out of 3          2  Kolkata                  1   \n",
       "2    2  17000  1000       1 out of 3          2  Kolkata                  1   \n",
       "3    2  10000   800       1 out of 2          2  Kolkata                  2   \n",
       "4    2   7500   850       1 out of 2          1  Kolkata                  2   \n",
       "\n",
       "   Tenant Preferred  Bathroom    0    1    2    3    4    5  \n",
       "0  Bachelors/Family         2  0.0  0.0  0.0  0.0  1.0  0.0  \n",
       "1  Bachelors/Family         1  0.0  0.0  0.0  0.0  1.0  0.0  \n",
       "2  Bachelors/Family         1  0.0  0.0  0.0  0.0  1.0  0.0  \n",
       "3  Bachelors/Family         1  0.0  0.0  0.0  0.0  1.0  0.0  \n",
       "4         Bachelors         1  0.0  0.0  0.0  0.0  1.0  0.0  "
      ]
     },
     "execution_count": 18,
     "metadata": {},
     "output_type": "execute_result"
    }
   ],
   "source": [
    "df.head()"
   ]
  },
  {
   "cell_type": "code",
   "execution_count": 19,
   "id": "893a6624",
   "metadata": {
    "execution": {
     "iopub.execute_input": "2022-08-27T13:15:37.362560Z",
     "iopub.status.busy": "2022-08-27T13:15:37.362302Z",
     "iopub.status.idle": "2022-08-27T13:15:37.369244Z",
     "shell.execute_reply": "2022-08-27T13:15:37.368436Z"
    },
    "papermill": {
     "duration": 0.019261,
     "end_time": "2022-08-27T13:15:37.371286",
     "exception": false,
     "start_time": "2022-08-27T13:15:37.352025",
     "status": "completed"
    },
    "tags": []
   },
   "outputs": [],
   "source": [
    "df.drop(\"City\", axis=1, inplace=True)"
   ]
  },
  {
   "cell_type": "code",
   "execution_count": 20,
   "id": "bff19a8a",
   "metadata": {
    "execution": {
     "iopub.execute_input": "2022-08-27T13:15:37.390657Z",
     "iopub.status.busy": "2022-08-27T13:15:37.390400Z",
     "iopub.status.idle": "2022-08-27T13:15:37.406314Z",
     "shell.execute_reply": "2022-08-27T13:15:37.405433Z"
    },
    "papermill": {
     "duration": 0.028079,
     "end_time": "2022-08-27T13:15:37.408516",
     "exception": false,
     "start_time": "2022-08-27T13:15:37.380437",
     "status": "completed"
    },
    "tags": []
   },
   "outputs": [
    {
     "data": {
      "text/html": [
       "<div>\n",
       "<style scoped>\n",
       "    .dataframe tbody tr th:only-of-type {\n",
       "        vertical-align: middle;\n",
       "    }\n",
       "\n",
       "    .dataframe tbody tr th {\n",
       "        vertical-align: top;\n",
       "    }\n",
       "\n",
       "    .dataframe thead th {\n",
       "        text-align: right;\n",
       "    }\n",
       "</style>\n",
       "<table border=\"1\" class=\"dataframe\">\n",
       "  <thead>\n",
       "    <tr style=\"text-align: right;\">\n",
       "      <th></th>\n",
       "      <th>BHK</th>\n",
       "      <th>Rent</th>\n",
       "      <th>Size</th>\n",
       "      <th>Floor</th>\n",
       "      <th>Area Type</th>\n",
       "      <th>Furnishing Status</th>\n",
       "      <th>Tenant Preferred</th>\n",
       "      <th>Bathroom</th>\n",
       "      <th>0</th>\n",
       "      <th>1</th>\n",
       "      <th>2</th>\n",
       "      <th>3</th>\n",
       "      <th>4</th>\n",
       "      <th>5</th>\n",
       "    </tr>\n",
       "  </thead>\n",
       "  <tbody>\n",
       "    <tr>\n",
       "      <th>0</th>\n",
       "      <td>2</td>\n",
       "      <td>10000</td>\n",
       "      <td>1100</td>\n",
       "      <td>Ground out of 2</td>\n",
       "      <td>2</td>\n",
       "      <td>2</td>\n",
       "      <td>Bachelors/Family</td>\n",
       "      <td>2</td>\n",
       "      <td>0.0</td>\n",
       "      <td>0.0</td>\n",
       "      <td>0.0</td>\n",
       "      <td>0.0</td>\n",
       "      <td>1.0</td>\n",
       "      <td>0.0</td>\n",
       "    </tr>\n",
       "    <tr>\n",
       "      <th>1</th>\n",
       "      <td>2</td>\n",
       "      <td>20000</td>\n",
       "      <td>800</td>\n",
       "      <td>1 out of 3</td>\n",
       "      <td>2</td>\n",
       "      <td>1</td>\n",
       "      <td>Bachelors/Family</td>\n",
       "      <td>1</td>\n",
       "      <td>0.0</td>\n",
       "      <td>0.0</td>\n",
       "      <td>0.0</td>\n",
       "      <td>0.0</td>\n",
       "      <td>1.0</td>\n",
       "      <td>0.0</td>\n",
       "    </tr>\n",
       "    <tr>\n",
       "      <th>2</th>\n",
       "      <td>2</td>\n",
       "      <td>17000</td>\n",
       "      <td>1000</td>\n",
       "      <td>1 out of 3</td>\n",
       "      <td>2</td>\n",
       "      <td>1</td>\n",
       "      <td>Bachelors/Family</td>\n",
       "      <td>1</td>\n",
       "      <td>0.0</td>\n",
       "      <td>0.0</td>\n",
       "      <td>0.0</td>\n",
       "      <td>0.0</td>\n",
       "      <td>1.0</td>\n",
       "      <td>0.0</td>\n",
       "    </tr>\n",
       "    <tr>\n",
       "      <th>3</th>\n",
       "      <td>2</td>\n",
       "      <td>10000</td>\n",
       "      <td>800</td>\n",
       "      <td>1 out of 2</td>\n",
       "      <td>2</td>\n",
       "      <td>2</td>\n",
       "      <td>Bachelors/Family</td>\n",
       "      <td>1</td>\n",
       "      <td>0.0</td>\n",
       "      <td>0.0</td>\n",
       "      <td>0.0</td>\n",
       "      <td>0.0</td>\n",
       "      <td>1.0</td>\n",
       "      <td>0.0</td>\n",
       "    </tr>\n",
       "    <tr>\n",
       "      <th>4</th>\n",
       "      <td>2</td>\n",
       "      <td>7500</td>\n",
       "      <td>850</td>\n",
       "      <td>1 out of 2</td>\n",
       "      <td>1</td>\n",
       "      <td>2</td>\n",
       "      <td>Bachelors</td>\n",
       "      <td>1</td>\n",
       "      <td>0.0</td>\n",
       "      <td>0.0</td>\n",
       "      <td>0.0</td>\n",
       "      <td>0.0</td>\n",
       "      <td>1.0</td>\n",
       "      <td>0.0</td>\n",
       "    </tr>\n",
       "  </tbody>\n",
       "</table>\n",
       "</div>"
      ],
      "text/plain": [
       "   BHK   Rent  Size            Floor  Area Type  Furnishing Status  \\\n",
       "0    2  10000  1100  Ground out of 2          2                  2   \n",
       "1    2  20000   800       1 out of 3          2                  1   \n",
       "2    2  17000  1000       1 out of 3          2                  1   \n",
       "3    2  10000   800       1 out of 2          2                  2   \n",
       "4    2   7500   850       1 out of 2          1                  2   \n",
       "\n",
       "   Tenant Preferred  Bathroom    0    1    2    3    4    5  \n",
       "0  Bachelors/Family         2  0.0  0.0  0.0  0.0  1.0  0.0  \n",
       "1  Bachelors/Family         1  0.0  0.0  0.0  0.0  1.0  0.0  \n",
       "2  Bachelors/Family         1  0.0  0.0  0.0  0.0  1.0  0.0  \n",
       "3  Bachelors/Family         1  0.0  0.0  0.0  0.0  1.0  0.0  \n",
       "4         Bachelors         1  0.0  0.0  0.0  0.0  1.0  0.0  "
      ]
     },
     "execution_count": 20,
     "metadata": {},
     "output_type": "execute_result"
    }
   ],
   "source": [
    "df.head()"
   ]
  },
  {
   "cell_type": "code",
   "execution_count": 21,
   "id": "28000f56",
   "metadata": {
    "execution": {
     "iopub.execute_input": "2022-08-27T13:15:37.429293Z",
     "iopub.status.busy": "2022-08-27T13:15:37.429033Z",
     "iopub.status.idle": "2022-08-27T13:15:37.434732Z",
     "shell.execute_reply": "2022-08-27T13:15:37.433849Z"
    },
    "papermill": {
     "duration": 0.017859,
     "end_time": "2022-08-27T13:15:37.436612",
     "exception": false,
     "start_time": "2022-08-27T13:15:37.418753",
     "status": "completed"
    },
    "tags": []
   },
   "outputs": [],
   "source": [
    "df[\"Tenant Preferred\"] = label_encoder.fit_transform(df[\"Tenant Preferred\"])"
   ]
  },
  {
   "cell_type": "code",
   "execution_count": 22,
   "id": "59251130",
   "metadata": {
    "execution": {
     "iopub.execute_input": "2022-08-27T13:15:37.459578Z",
     "iopub.status.busy": "2022-08-27T13:15:37.459242Z",
     "iopub.status.idle": "2022-08-27T13:15:37.489647Z",
     "shell.execute_reply": "2022-08-27T13:15:37.488722Z"
    },
    "papermill": {
     "duration": 0.045173,
     "end_time": "2022-08-27T13:15:37.491621",
     "exception": false,
     "start_time": "2022-08-27T13:15:37.446448",
     "status": "completed"
    },
    "tags": []
   },
   "outputs": [
    {
     "data": {
      "text/html": [
       "<div>\n",
       "<style scoped>\n",
       "    .dataframe tbody tr th:only-of-type {\n",
       "        vertical-align: middle;\n",
       "    }\n",
       "\n",
       "    .dataframe tbody tr th {\n",
       "        vertical-align: top;\n",
       "    }\n",
       "\n",
       "    .dataframe thead th {\n",
       "        text-align: right;\n",
       "    }\n",
       "</style>\n",
       "<table border=\"1\" class=\"dataframe\">\n",
       "  <thead>\n",
       "    <tr style=\"text-align: right;\">\n",
       "      <th></th>\n",
       "      <th>BHK</th>\n",
       "      <th>Rent</th>\n",
       "      <th>Size</th>\n",
       "      <th>Floor</th>\n",
       "      <th>Area Type</th>\n",
       "      <th>Furnishing Status</th>\n",
       "      <th>Tenant Preferred</th>\n",
       "      <th>Bathroom</th>\n",
       "      <th>0</th>\n",
       "      <th>1</th>\n",
       "      <th>2</th>\n",
       "      <th>3</th>\n",
       "      <th>4</th>\n",
       "      <th>5</th>\n",
       "    </tr>\n",
       "  </thead>\n",
       "  <tbody>\n",
       "    <tr>\n",
       "      <th>0</th>\n",
       "      <td>2</td>\n",
       "      <td>10000</td>\n",
       "      <td>1100</td>\n",
       "      <td>Ground out of 2</td>\n",
       "      <td>2</td>\n",
       "      <td>2</td>\n",
       "      <td>1</td>\n",
       "      <td>2</td>\n",
       "      <td>0.0</td>\n",
       "      <td>0.0</td>\n",
       "      <td>0.0</td>\n",
       "      <td>0.0</td>\n",
       "      <td>1.0</td>\n",
       "      <td>0.0</td>\n",
       "    </tr>\n",
       "    <tr>\n",
       "      <th>1</th>\n",
       "      <td>2</td>\n",
       "      <td>20000</td>\n",
       "      <td>800</td>\n",
       "      <td>1 out of 3</td>\n",
       "      <td>2</td>\n",
       "      <td>1</td>\n",
       "      <td>1</td>\n",
       "      <td>1</td>\n",
       "      <td>0.0</td>\n",
       "      <td>0.0</td>\n",
       "      <td>0.0</td>\n",
       "      <td>0.0</td>\n",
       "      <td>1.0</td>\n",
       "      <td>0.0</td>\n",
       "    </tr>\n",
       "    <tr>\n",
       "      <th>2</th>\n",
       "      <td>2</td>\n",
       "      <td>17000</td>\n",
       "      <td>1000</td>\n",
       "      <td>1 out of 3</td>\n",
       "      <td>2</td>\n",
       "      <td>1</td>\n",
       "      <td>1</td>\n",
       "      <td>1</td>\n",
       "      <td>0.0</td>\n",
       "      <td>0.0</td>\n",
       "      <td>0.0</td>\n",
       "      <td>0.0</td>\n",
       "      <td>1.0</td>\n",
       "      <td>0.0</td>\n",
       "    </tr>\n",
       "    <tr>\n",
       "      <th>3</th>\n",
       "      <td>2</td>\n",
       "      <td>10000</td>\n",
       "      <td>800</td>\n",
       "      <td>1 out of 2</td>\n",
       "      <td>2</td>\n",
       "      <td>2</td>\n",
       "      <td>1</td>\n",
       "      <td>1</td>\n",
       "      <td>0.0</td>\n",
       "      <td>0.0</td>\n",
       "      <td>0.0</td>\n",
       "      <td>0.0</td>\n",
       "      <td>1.0</td>\n",
       "      <td>0.0</td>\n",
       "    </tr>\n",
       "    <tr>\n",
       "      <th>4</th>\n",
       "      <td>2</td>\n",
       "      <td>7500</td>\n",
       "      <td>850</td>\n",
       "      <td>1 out of 2</td>\n",
       "      <td>1</td>\n",
       "      <td>2</td>\n",
       "      <td>0</td>\n",
       "      <td>1</td>\n",
       "      <td>0.0</td>\n",
       "      <td>0.0</td>\n",
       "      <td>0.0</td>\n",
       "      <td>0.0</td>\n",
       "      <td>1.0</td>\n",
       "      <td>0.0</td>\n",
       "    </tr>\n",
       "  </tbody>\n",
       "</table>\n",
       "</div>"
      ],
      "text/plain": [
       "   BHK   Rent  Size            Floor  Area Type  Furnishing Status  \\\n",
       "0    2  10000  1100  Ground out of 2          2                  2   \n",
       "1    2  20000   800       1 out of 3          2                  1   \n",
       "2    2  17000  1000       1 out of 3          2                  1   \n",
       "3    2  10000   800       1 out of 2          2                  2   \n",
       "4    2   7500   850       1 out of 2          1                  2   \n",
       "\n",
       "   Tenant Preferred  Bathroom    0    1    2    3    4    5  \n",
       "0                 1         2  0.0  0.0  0.0  0.0  1.0  0.0  \n",
       "1                 1         1  0.0  0.0  0.0  0.0  1.0  0.0  \n",
       "2                 1         1  0.0  0.0  0.0  0.0  1.0  0.0  \n",
       "3                 1         1  0.0  0.0  0.0  0.0  1.0  0.0  \n",
       "4                 0         1  0.0  0.0  0.0  0.0  1.0  0.0  "
      ]
     },
     "execution_count": 22,
     "metadata": {},
     "output_type": "execute_result"
    }
   ],
   "source": [
    "df.head()"
   ]
  },
  {
   "cell_type": "code",
   "execution_count": 23,
   "id": "2a066836",
   "metadata": {
    "execution": {
     "iopub.execute_input": "2022-08-27T13:15:37.549749Z",
     "iopub.status.busy": "2022-08-27T13:15:37.549065Z",
     "iopub.status.idle": "2022-08-27T13:15:37.560068Z",
     "shell.execute_reply": "2022-08-27T13:15:37.558620Z"
    },
    "papermill": {
     "duration": 0.042663,
     "end_time": "2022-08-27T13:15:37.564118",
     "exception": false,
     "start_time": "2022-08-27T13:15:37.521455",
     "status": "completed"
    },
    "tags": []
   },
   "outputs": [],
   "source": [
    "df.drop(\"Floor\", axis=1, inplace=True)"
   ]
  },
  {
   "cell_type": "code",
   "execution_count": 24,
   "id": "4cb88d93",
   "metadata": {
    "execution": {
     "iopub.execute_input": "2022-08-27T13:15:37.603071Z",
     "iopub.status.busy": "2022-08-27T13:15:37.602587Z",
     "iopub.status.idle": "2022-08-27T13:15:37.627380Z",
     "shell.execute_reply": "2022-08-27T13:15:37.626497Z"
    },
    "papermill": {
     "duration": 0.044333,
     "end_time": "2022-08-27T13:15:37.629941",
     "exception": false,
     "start_time": "2022-08-27T13:15:37.585608",
     "status": "completed"
    },
    "tags": []
   },
   "outputs": [
    {
     "data": {
      "text/html": [
       "<div>\n",
       "<style scoped>\n",
       "    .dataframe tbody tr th:only-of-type {\n",
       "        vertical-align: middle;\n",
       "    }\n",
       "\n",
       "    .dataframe tbody tr th {\n",
       "        vertical-align: top;\n",
       "    }\n",
       "\n",
       "    .dataframe thead th {\n",
       "        text-align: right;\n",
       "    }\n",
       "</style>\n",
       "<table border=\"1\" class=\"dataframe\">\n",
       "  <thead>\n",
       "    <tr style=\"text-align: right;\">\n",
       "      <th></th>\n",
       "      <th>BHK</th>\n",
       "      <th>Rent</th>\n",
       "      <th>Size</th>\n",
       "      <th>Area Type</th>\n",
       "      <th>Furnishing Status</th>\n",
       "      <th>Tenant Preferred</th>\n",
       "      <th>Bathroom</th>\n",
       "      <th>0</th>\n",
       "      <th>1</th>\n",
       "      <th>2</th>\n",
       "      <th>3</th>\n",
       "      <th>4</th>\n",
       "      <th>5</th>\n",
       "    </tr>\n",
       "  </thead>\n",
       "  <tbody>\n",
       "    <tr>\n",
       "      <th>0</th>\n",
       "      <td>2</td>\n",
       "      <td>10000</td>\n",
       "      <td>1100</td>\n",
       "      <td>2</td>\n",
       "      <td>2</td>\n",
       "      <td>1</td>\n",
       "      <td>2</td>\n",
       "      <td>0.0</td>\n",
       "      <td>0.0</td>\n",
       "      <td>0.0</td>\n",
       "      <td>0.0</td>\n",
       "      <td>1.0</td>\n",
       "      <td>0.0</td>\n",
       "    </tr>\n",
       "    <tr>\n",
       "      <th>1</th>\n",
       "      <td>2</td>\n",
       "      <td>20000</td>\n",
       "      <td>800</td>\n",
       "      <td>2</td>\n",
       "      <td>1</td>\n",
       "      <td>1</td>\n",
       "      <td>1</td>\n",
       "      <td>0.0</td>\n",
       "      <td>0.0</td>\n",
       "      <td>0.0</td>\n",
       "      <td>0.0</td>\n",
       "      <td>1.0</td>\n",
       "      <td>0.0</td>\n",
       "    </tr>\n",
       "    <tr>\n",
       "      <th>2</th>\n",
       "      <td>2</td>\n",
       "      <td>17000</td>\n",
       "      <td>1000</td>\n",
       "      <td>2</td>\n",
       "      <td>1</td>\n",
       "      <td>1</td>\n",
       "      <td>1</td>\n",
       "      <td>0.0</td>\n",
       "      <td>0.0</td>\n",
       "      <td>0.0</td>\n",
       "      <td>0.0</td>\n",
       "      <td>1.0</td>\n",
       "      <td>0.0</td>\n",
       "    </tr>\n",
       "    <tr>\n",
       "      <th>3</th>\n",
       "      <td>2</td>\n",
       "      <td>10000</td>\n",
       "      <td>800</td>\n",
       "      <td>2</td>\n",
       "      <td>2</td>\n",
       "      <td>1</td>\n",
       "      <td>1</td>\n",
       "      <td>0.0</td>\n",
       "      <td>0.0</td>\n",
       "      <td>0.0</td>\n",
       "      <td>0.0</td>\n",
       "      <td>1.0</td>\n",
       "      <td>0.0</td>\n",
       "    </tr>\n",
       "    <tr>\n",
       "      <th>4</th>\n",
       "      <td>2</td>\n",
       "      <td>7500</td>\n",
       "      <td>850</td>\n",
       "      <td>1</td>\n",
       "      <td>2</td>\n",
       "      <td>0</td>\n",
       "      <td>1</td>\n",
       "      <td>0.0</td>\n",
       "      <td>0.0</td>\n",
       "      <td>0.0</td>\n",
       "      <td>0.0</td>\n",
       "      <td>1.0</td>\n",
       "      <td>0.0</td>\n",
       "    </tr>\n",
       "  </tbody>\n",
       "</table>\n",
       "</div>"
      ],
      "text/plain": [
       "   BHK   Rent  Size  Area Type  Furnishing Status  Tenant Preferred  Bathroom  \\\n",
       "0    2  10000  1100          2                  2                 1         2   \n",
       "1    2  20000   800          2                  1                 1         1   \n",
       "2    2  17000  1000          2                  1                 1         1   \n",
       "3    2  10000   800          2                  2                 1         1   \n",
       "4    2   7500   850          1                  2                 0         1   \n",
       "\n",
       "     0    1    2    3    4    5  \n",
       "0  0.0  0.0  0.0  0.0  1.0  0.0  \n",
       "1  0.0  0.0  0.0  0.0  1.0  0.0  \n",
       "2  0.0  0.0  0.0  0.0  1.0  0.0  \n",
       "3  0.0  0.0  0.0  0.0  1.0  0.0  \n",
       "4  0.0  0.0  0.0  0.0  1.0  0.0  "
      ]
     },
     "execution_count": 24,
     "metadata": {},
     "output_type": "execute_result"
    }
   ],
   "source": [
    "df.head()"
   ]
  },
  {
   "cell_type": "code",
   "execution_count": 25,
   "id": "51e5a231",
   "metadata": {
    "execution": {
     "iopub.execute_input": "2022-08-27T13:15:37.661890Z",
     "iopub.status.busy": "2022-08-27T13:15:37.661446Z",
     "iopub.status.idle": "2022-08-27T13:15:37.667984Z",
     "shell.execute_reply": "2022-08-27T13:15:37.667133Z"
    },
    "papermill": {
     "duration": 0.027602,
     "end_time": "2022-08-27T13:15:37.673118",
     "exception": false,
     "start_time": "2022-08-27T13:15:37.645516",
     "status": "completed"
    },
    "tags": []
   },
   "outputs": [
    {
     "data": {
      "text/plain": [
       "Index([              'BHK',              'Rent',              'Size',\n",
       "               'Area Type', 'Furnishing Status',  'Tenant Preferred',\n",
       "                'Bathroom',                   0,                   1,\n",
       "                         2,                   3,                   4,\n",
       "                         5],\n",
       "      dtype='object')"
      ]
     },
     "execution_count": 25,
     "metadata": {},
     "output_type": "execute_result"
    }
   ],
   "source": [
    "df.columns"
   ]
  },
  {
   "cell_type": "code",
   "execution_count": 26,
   "id": "05dd9008",
   "metadata": {
    "execution": {
     "iopub.execute_input": "2022-08-27T13:15:37.704741Z",
     "iopub.status.busy": "2022-08-27T13:15:37.704337Z",
     "iopub.status.idle": "2022-08-27T13:15:37.709562Z",
     "shell.execute_reply": "2022-08-27T13:15:37.708721Z"
    },
    "papermill": {
     "duration": 0.024967,
     "end_time": "2022-08-27T13:15:37.713375",
     "exception": false,
     "start_time": "2022-08-27T13:15:37.688408",
     "status": "completed"
    },
    "tags": []
   },
   "outputs": [],
   "source": [
    "df.columns = ['BHK', 'Rent', 'Size', 'Area Type', 'Furnishing Status', 'Tenant Preferred', 'Bathroom','Kolkata', 'Mumbai', 'Bangalore', 'Delhi', 'Chennai', 'Hyderabad']"
   ]
  },
  {
   "cell_type": "code",
   "execution_count": 27,
   "id": "9b7742ce",
   "metadata": {
    "execution": {
     "iopub.execute_input": "2022-08-27T13:15:37.746107Z",
     "iopub.status.busy": "2022-08-27T13:15:37.745099Z",
     "iopub.status.idle": "2022-08-27T13:15:37.768188Z",
     "shell.execute_reply": "2022-08-27T13:15:37.767165Z"
    },
    "papermill": {
     "duration": 0.041644,
     "end_time": "2022-08-27T13:15:37.770592",
     "exception": false,
     "start_time": "2022-08-27T13:15:37.728948",
     "status": "completed"
    },
    "tags": []
   },
   "outputs": [
    {
     "data": {
      "text/html": [
       "<div>\n",
       "<style scoped>\n",
       "    .dataframe tbody tr th:only-of-type {\n",
       "        vertical-align: middle;\n",
       "    }\n",
       "\n",
       "    .dataframe tbody tr th {\n",
       "        vertical-align: top;\n",
       "    }\n",
       "\n",
       "    .dataframe thead th {\n",
       "        text-align: right;\n",
       "    }\n",
       "</style>\n",
       "<table border=\"1\" class=\"dataframe\">\n",
       "  <thead>\n",
       "    <tr style=\"text-align: right;\">\n",
       "      <th></th>\n",
       "      <th>BHK</th>\n",
       "      <th>Rent</th>\n",
       "      <th>Size</th>\n",
       "      <th>Area Type</th>\n",
       "      <th>Furnishing Status</th>\n",
       "      <th>Tenant Preferred</th>\n",
       "      <th>Bathroom</th>\n",
       "      <th>Kolkata</th>\n",
       "      <th>Mumbai</th>\n",
       "      <th>Bangalore</th>\n",
       "      <th>Delhi</th>\n",
       "      <th>Chennai</th>\n",
       "      <th>Hyderabad</th>\n",
       "    </tr>\n",
       "  </thead>\n",
       "  <tbody>\n",
       "    <tr>\n",
       "      <th>0</th>\n",
       "      <td>2</td>\n",
       "      <td>10000</td>\n",
       "      <td>1100</td>\n",
       "      <td>2</td>\n",
       "      <td>2</td>\n",
       "      <td>1</td>\n",
       "      <td>2</td>\n",
       "      <td>0.0</td>\n",
       "      <td>0.0</td>\n",
       "      <td>0.0</td>\n",
       "      <td>0.0</td>\n",
       "      <td>1.0</td>\n",
       "      <td>0.0</td>\n",
       "    </tr>\n",
       "    <tr>\n",
       "      <th>1</th>\n",
       "      <td>2</td>\n",
       "      <td>20000</td>\n",
       "      <td>800</td>\n",
       "      <td>2</td>\n",
       "      <td>1</td>\n",
       "      <td>1</td>\n",
       "      <td>1</td>\n",
       "      <td>0.0</td>\n",
       "      <td>0.0</td>\n",
       "      <td>0.0</td>\n",
       "      <td>0.0</td>\n",
       "      <td>1.0</td>\n",
       "      <td>0.0</td>\n",
       "    </tr>\n",
       "    <tr>\n",
       "      <th>2</th>\n",
       "      <td>2</td>\n",
       "      <td>17000</td>\n",
       "      <td>1000</td>\n",
       "      <td>2</td>\n",
       "      <td>1</td>\n",
       "      <td>1</td>\n",
       "      <td>1</td>\n",
       "      <td>0.0</td>\n",
       "      <td>0.0</td>\n",
       "      <td>0.0</td>\n",
       "      <td>0.0</td>\n",
       "      <td>1.0</td>\n",
       "      <td>0.0</td>\n",
       "    </tr>\n",
       "    <tr>\n",
       "      <th>3</th>\n",
       "      <td>2</td>\n",
       "      <td>10000</td>\n",
       "      <td>800</td>\n",
       "      <td>2</td>\n",
       "      <td>2</td>\n",
       "      <td>1</td>\n",
       "      <td>1</td>\n",
       "      <td>0.0</td>\n",
       "      <td>0.0</td>\n",
       "      <td>0.0</td>\n",
       "      <td>0.0</td>\n",
       "      <td>1.0</td>\n",
       "      <td>0.0</td>\n",
       "    </tr>\n",
       "    <tr>\n",
       "      <th>4</th>\n",
       "      <td>2</td>\n",
       "      <td>7500</td>\n",
       "      <td>850</td>\n",
       "      <td>1</td>\n",
       "      <td>2</td>\n",
       "      <td>0</td>\n",
       "      <td>1</td>\n",
       "      <td>0.0</td>\n",
       "      <td>0.0</td>\n",
       "      <td>0.0</td>\n",
       "      <td>0.0</td>\n",
       "      <td>1.0</td>\n",
       "      <td>0.0</td>\n",
       "    </tr>\n",
       "  </tbody>\n",
       "</table>\n",
       "</div>"
      ],
      "text/plain": [
       "   BHK   Rent  Size  Area Type  Furnishing Status  Tenant Preferred  Bathroom  \\\n",
       "0    2  10000  1100          2                  2                 1         2   \n",
       "1    2  20000   800          2                  1                 1         1   \n",
       "2    2  17000  1000          2                  1                 1         1   \n",
       "3    2  10000   800          2                  2                 1         1   \n",
       "4    2   7500   850          1                  2                 0         1   \n",
       "\n",
       "   Kolkata  Mumbai  Bangalore  Delhi  Chennai  Hyderabad  \n",
       "0      0.0     0.0        0.0    0.0      1.0        0.0  \n",
       "1      0.0     0.0        0.0    0.0      1.0        0.0  \n",
       "2      0.0     0.0        0.0    0.0      1.0        0.0  \n",
       "3      0.0     0.0        0.0    0.0      1.0        0.0  \n",
       "4      0.0     0.0        0.0    0.0      1.0        0.0  "
      ]
     },
     "execution_count": 27,
     "metadata": {},
     "output_type": "execute_result"
    }
   ],
   "source": [
    "df.head()"
   ]
  },
  {
   "cell_type": "code",
   "execution_count": 28,
   "id": "1e0c4f19",
   "metadata": {
    "execution": {
     "iopub.execute_input": "2022-08-27T13:15:37.802909Z",
     "iopub.status.busy": "2022-08-27T13:15:37.802478Z",
     "iopub.status.idle": "2022-08-27T13:15:37.824642Z",
     "shell.execute_reply": "2022-08-27T13:15:37.823843Z"
    },
    "papermill": {
     "duration": 0.040838,
     "end_time": "2022-08-27T13:15:37.827306",
     "exception": false,
     "start_time": "2022-08-27T13:15:37.786468",
     "status": "completed"
    },
    "tags": []
   },
   "outputs": [
    {
     "data": {
      "text/html": [
       "<div>\n",
       "<style scoped>\n",
       "    .dataframe tbody tr th:only-of-type {\n",
       "        vertical-align: middle;\n",
       "    }\n",
       "\n",
       "    .dataframe tbody tr th {\n",
       "        vertical-align: top;\n",
       "    }\n",
       "\n",
       "    .dataframe thead th {\n",
       "        text-align: right;\n",
       "    }\n",
       "</style>\n",
       "<table border=\"1\" class=\"dataframe\">\n",
       "  <thead>\n",
       "    <tr style=\"text-align: right;\">\n",
       "      <th></th>\n",
       "      <th>BHK</th>\n",
       "      <th>Rent</th>\n",
       "      <th>Size</th>\n",
       "      <th>Area Type</th>\n",
       "      <th>Furnishing Status</th>\n",
       "      <th>Tenant Preferred</th>\n",
       "      <th>Bathroom</th>\n",
       "      <th>Kolkata</th>\n",
       "      <th>Mumbai</th>\n",
       "      <th>Bangalore</th>\n",
       "      <th>Delhi</th>\n",
       "      <th>Chennai</th>\n",
       "      <th>Hyderabad</th>\n",
       "    </tr>\n",
       "  </thead>\n",
       "  <tbody>\n",
       "    <tr>\n",
       "      <th>4741</th>\n",
       "      <td>2</td>\n",
       "      <td>15000</td>\n",
       "      <td>1000</td>\n",
       "      <td>1</td>\n",
       "      <td>1</td>\n",
       "      <td>1</td>\n",
       "      <td>2</td>\n",
       "      <td>0.0</td>\n",
       "      <td>0.0</td>\n",
       "      <td>0.0</td>\n",
       "      <td>1.0</td>\n",
       "      <td>0.0</td>\n",
       "      <td>0.0</td>\n",
       "    </tr>\n",
       "    <tr>\n",
       "      <th>4742</th>\n",
       "      <td>3</td>\n",
       "      <td>29000</td>\n",
       "      <td>2000</td>\n",
       "      <td>2</td>\n",
       "      <td>1</td>\n",
       "      <td>1</td>\n",
       "      <td>3</td>\n",
       "      <td>0.0</td>\n",
       "      <td>0.0</td>\n",
       "      <td>0.0</td>\n",
       "      <td>1.0</td>\n",
       "      <td>0.0</td>\n",
       "      <td>0.0</td>\n",
       "    </tr>\n",
       "    <tr>\n",
       "      <th>4743</th>\n",
       "      <td>3</td>\n",
       "      <td>35000</td>\n",
       "      <td>1750</td>\n",
       "      <td>1</td>\n",
       "      <td>1</td>\n",
       "      <td>1</td>\n",
       "      <td>3</td>\n",
       "      <td>0.0</td>\n",
       "      <td>0.0</td>\n",
       "      <td>0.0</td>\n",
       "      <td>1.0</td>\n",
       "      <td>0.0</td>\n",
       "      <td>0.0</td>\n",
       "    </tr>\n",
       "    <tr>\n",
       "      <th>4744</th>\n",
       "      <td>3</td>\n",
       "      <td>45000</td>\n",
       "      <td>1500</td>\n",
       "      <td>1</td>\n",
       "      <td>1</td>\n",
       "      <td>2</td>\n",
       "      <td>2</td>\n",
       "      <td>0.0</td>\n",
       "      <td>0.0</td>\n",
       "      <td>0.0</td>\n",
       "      <td>1.0</td>\n",
       "      <td>0.0</td>\n",
       "      <td>0.0</td>\n",
       "    </tr>\n",
       "    <tr>\n",
       "      <th>4745</th>\n",
       "      <td>2</td>\n",
       "      <td>15000</td>\n",
       "      <td>1000</td>\n",
       "      <td>1</td>\n",
       "      <td>2</td>\n",
       "      <td>0</td>\n",
       "      <td>2</td>\n",
       "      <td>0.0</td>\n",
       "      <td>0.0</td>\n",
       "      <td>0.0</td>\n",
       "      <td>1.0</td>\n",
       "      <td>0.0</td>\n",
       "      <td>0.0</td>\n",
       "    </tr>\n",
       "  </tbody>\n",
       "</table>\n",
       "</div>"
      ],
      "text/plain": [
       "      BHK   Rent  Size  Area Type  Furnishing Status  Tenant Preferred  \\\n",
       "4741    2  15000  1000          1                  1                 1   \n",
       "4742    3  29000  2000          2                  1                 1   \n",
       "4743    3  35000  1750          1                  1                 1   \n",
       "4744    3  45000  1500          1                  1                 2   \n",
       "4745    2  15000  1000          1                  2                 0   \n",
       "\n",
       "      Bathroom  Kolkata  Mumbai  Bangalore  Delhi  Chennai  Hyderabad  \n",
       "4741         2      0.0     0.0        0.0    1.0      0.0        0.0  \n",
       "4742         3      0.0     0.0        0.0    1.0      0.0        0.0  \n",
       "4743         3      0.0     0.0        0.0    1.0      0.0        0.0  \n",
       "4744         2      0.0     0.0        0.0    1.0      0.0        0.0  \n",
       "4745         2      0.0     0.0        0.0    1.0      0.0        0.0  "
      ]
     },
     "execution_count": 28,
     "metadata": {},
     "output_type": "execute_result"
    }
   ],
   "source": [
    "df.tail()"
   ]
  },
  {
   "cell_type": "code",
   "execution_count": 29,
   "id": "14e20877",
   "metadata": {
    "execution": {
     "iopub.execute_input": "2022-08-27T13:15:37.861030Z",
     "iopub.status.busy": "2022-08-27T13:15:37.860612Z",
     "iopub.status.idle": "2022-08-27T13:15:37.870701Z",
     "shell.execute_reply": "2022-08-27T13:15:37.869884Z"
    },
    "papermill": {
     "duration": 0.029298,
     "end_time": "2022-08-27T13:15:37.873215",
     "exception": false,
     "start_time": "2022-08-27T13:15:37.843917",
     "status": "completed"
    },
    "tags": []
   },
   "outputs": [
    {
     "data": {
      "text/plain": [
       "0       10000\n",
       "1       20000\n",
       "2       17000\n",
       "3       10000\n",
       "4        7500\n",
       "        ...  \n",
       "4741    15000\n",
       "4742    29000\n",
       "4743    35000\n",
       "4744    45000\n",
       "4745    15000\n",
       "Name: Rent, Length: 4746, dtype: int64"
      ]
     },
     "execution_count": 29,
     "metadata": {},
     "output_type": "execute_result"
    }
   ],
   "source": [
    "df.Rent"
   ]
  },
  {
   "cell_type": "code",
   "execution_count": 30,
   "id": "bbf319a5",
   "metadata": {
    "execution": {
     "iopub.execute_input": "2022-08-27T13:15:37.905591Z",
     "iopub.status.busy": "2022-08-27T13:15:37.905199Z",
     "iopub.status.idle": "2022-08-27T13:15:37.965733Z",
     "shell.execute_reply": "2022-08-27T13:15:37.964920Z"
    },
    "papermill": {
     "duration": 0.079431,
     "end_time": "2022-08-27T13:15:37.968275",
     "exception": false,
     "start_time": "2022-08-27T13:15:37.888844",
     "status": "completed"
    },
    "tags": []
   },
   "outputs": [],
   "source": [
    "from sklearn.model_selection import train_test_split\n",
    "\n",
    "y = df[\"Rent\"]\n",
    "x = df.drop(\"Rent\", axis=1)\n",
    "\n",
    "X_train, X_test, y_train, y_test = train_test_split(x, y, test_size=0.2, random_state=69)"
   ]
  },
  {
   "cell_type": "code",
   "execution_count": 31,
   "id": "22de6315",
   "metadata": {
    "execution": {
     "iopub.execute_input": "2022-08-27T13:15:38.006139Z",
     "iopub.status.busy": "2022-08-27T13:15:38.005752Z",
     "iopub.status.idle": "2022-08-27T13:15:38.096879Z",
     "shell.execute_reply": "2022-08-27T13:15:38.095567Z"
    },
    "papermill": {
     "duration": 0.114211,
     "end_time": "2022-08-27T13:15:38.100484",
     "exception": false,
     "start_time": "2022-08-27T13:15:37.986273",
     "status": "completed"
    },
    "tags": []
   },
   "outputs": [],
   "source": [
    "from sklearn.linear_model import LinearRegression\n",
    "\n",
    "lr = LinearRegression()\n",
    "\n",
    "reg = lr.fit(X_train, y_train)"
   ]
  },
  {
   "cell_type": "code",
   "execution_count": 32,
   "id": "d6fd39f0",
   "metadata": {
    "execution": {
     "iopub.execute_input": "2022-08-27T13:15:38.158395Z",
     "iopub.status.busy": "2022-08-27T13:15:38.157828Z",
     "iopub.status.idle": "2022-08-27T13:15:38.172260Z",
     "shell.execute_reply": "2022-08-27T13:15:38.171126Z"
    },
    "papermill": {
     "duration": 0.046671,
     "end_time": "2022-08-27T13:15:38.175577",
     "exception": false,
     "start_time": "2022-08-27T13:15:38.128906",
     "status": "completed"
    },
    "tags": []
   },
   "outputs": [],
   "source": [
    "pred = reg.predict(X_test)"
   ]
  },
  {
   "cell_type": "code",
   "execution_count": 33,
   "id": "3912fd20",
   "metadata": {
    "execution": {
     "iopub.execute_input": "2022-08-27T13:15:38.252446Z",
     "iopub.status.busy": "2022-08-27T13:15:38.251912Z",
     "iopub.status.idle": "2022-08-27T13:15:38.263772Z",
     "shell.execute_reply": "2022-08-27T13:15:38.262570Z"
    },
    "papermill": {
     "duration": 0.04353,
     "end_time": "2022-08-27T13:15:38.267304",
     "exception": false,
     "start_time": "2022-08-27T13:15:38.223774",
     "status": "completed"
    },
    "tags": []
   },
   "outputs": [
    {
     "name": "stdout",
     "output_type": "stream",
     "text": [
      "21989.37105550762\n"
     ]
    }
   ],
   "source": [
    "from sklearn.metrics import mean_absolute_error\n",
    "print(mean_absolute_error(y_test, pred))"
   ]
  },
  {
   "cell_type": "code",
   "execution_count": 34,
   "id": "9367b145",
   "metadata": {
    "execution": {
     "iopub.execute_input": "2022-08-27T13:15:38.309308Z",
     "iopub.status.busy": "2022-08-27T13:15:38.309032Z",
     "iopub.status.idle": "2022-08-27T13:15:41.496444Z",
     "shell.execute_reply": "2022-08-27T13:15:41.495702Z"
    },
    "papermill": {
     "duration": 3.203808,
     "end_time": "2022-08-27T13:15:41.498617",
     "exception": false,
     "start_time": "2022-08-27T13:15:38.294809",
     "status": "completed"
    },
    "tags": []
   },
   "outputs": [
    {
     "data": {
      "text/plain": [
       "XGBRegressor(base_score=0.5, booster='gbtree', callbacks=None,\n",
       "             colsample_bylevel=1, colsample_bynode=1, colsample_bytree=1,\n",
       "             early_stopping_rounds=None, enable_categorical=False,\n",
       "             eval_metric=None, gamma=0, gpu_id=-1, grow_policy='depthwise',\n",
       "             importance_type=None, interaction_constraints='',\n",
       "             learning_rate=0.300000012, max_bin=256, max_cat_to_onehot=4,\n",
       "             max_delta_step=0, max_depth=6, max_leaves=0, min_child_weight=1,\n",
       "             missing=nan, monotone_constraints='()', n_estimators=100, n_jobs=0,\n",
       "             num_parallel_tree=1, predictor='auto', random_state=0, reg_alpha=0,\n",
       "             reg_lambda=1, ...)"
      ]
     },
     "execution_count": 34,
     "metadata": {},
     "output_type": "execute_result"
    }
   ],
   "source": [
    "import xgboost as xgb\n",
    "xreg = xgb.XGBRegressor(n_estimators = 100)\n",
    "xreg.fit(X_train, y_train)"
   ]
  },
  {
   "cell_type": "code",
   "execution_count": 35,
   "id": "19463a19",
   "metadata": {
    "execution": {
     "iopub.execute_input": "2022-08-27T13:15:41.521553Z",
     "iopub.status.busy": "2022-08-27T13:15:41.521246Z",
     "iopub.status.idle": "2022-08-27T13:15:41.530121Z",
     "shell.execute_reply": "2022-08-27T13:15:41.529466Z"
    },
    "papermill": {
     "duration": 0.022224,
     "end_time": "2022-08-27T13:15:41.532126",
     "exception": false,
     "start_time": "2022-08-27T13:15:41.509902",
     "status": "completed"
    },
    "tags": []
   },
   "outputs": [],
   "source": [
    "y_pred = xreg.predict(X_test)"
   ]
  },
  {
   "cell_type": "code",
   "execution_count": 36,
   "id": "221290ac",
   "metadata": {
    "execution": {
     "iopub.execute_input": "2022-08-27T13:15:41.555768Z",
     "iopub.status.busy": "2022-08-27T13:15:41.555498Z",
     "iopub.status.idle": "2022-08-27T13:15:41.561589Z",
     "shell.execute_reply": "2022-08-27T13:15:41.560545Z"
    },
    "papermill": {
     "duration": 0.0201,
     "end_time": "2022-08-27T13:15:41.564393",
     "exception": false,
     "start_time": "2022-08-27T13:15:41.544293",
     "status": "completed"
    },
    "tags": []
   },
   "outputs": [
    {
     "name": "stdout",
     "output_type": "stream",
     "text": [
      "15726.860869124563\n"
     ]
    }
   ],
   "source": [
    "print(mean_absolute_error(y_test, y_pred))"
   ]
  },
  {
   "cell_type": "markdown",
   "id": "e5674f26",
   "metadata": {
    "papermill": {
     "duration": 0.010313,
     "end_time": "2022-08-27T13:15:41.585169",
     "exception": false,
     "start_time": "2022-08-27T13:15:41.574856",
     "status": "completed"
    },
    "tags": []
   },
   "source": [
    "Things to add\n",
    "\n",
    "1) SVM\n",
    "2) Naive Bayes\n",
    "3) "
   ]
  },
  {
   "cell_type": "code",
   "execution_count": 37,
   "id": "b2c71b40",
   "metadata": {
    "execution": {
     "iopub.execute_input": "2022-08-27T13:15:41.608061Z",
     "iopub.status.busy": "2022-08-27T13:15:41.607721Z",
     "iopub.status.idle": "2022-08-27T13:15:41.625543Z",
     "shell.execute_reply": "2022-08-27T13:15:41.624690Z"
    },
    "papermill": {
     "duration": 0.031349,
     "end_time": "2022-08-27T13:15:41.627620",
     "exception": false,
     "start_time": "2022-08-27T13:15:41.596271",
     "status": "completed"
    },
    "tags": []
   },
   "outputs": [],
   "source": [
    "df = pd.read_csv(\"../input/house-rent-prediction-dataset/House_Rent_Dataset.csv\")"
   ]
  },
  {
   "cell_type": "code",
   "execution_count": 38,
   "id": "4369d6c3",
   "metadata": {
    "execution": {
     "iopub.execute_input": "2022-08-27T13:15:41.650019Z",
     "iopub.status.busy": "2022-08-27T13:15:41.649441Z",
     "iopub.status.idle": "2022-08-27T13:15:41.661802Z",
     "shell.execute_reply": "2022-08-27T13:15:41.660735Z"
    },
    "papermill": {
     "duration": 0.025983,
     "end_time": "2022-08-27T13:15:41.663973",
     "exception": false,
     "start_time": "2022-08-27T13:15:41.637990",
     "status": "completed"
    },
    "tags": []
   },
   "outputs": [
    {
     "data": {
      "text/html": [
       "<div>\n",
       "<style scoped>\n",
       "    .dataframe tbody tr th:only-of-type {\n",
       "        vertical-align: middle;\n",
       "    }\n",
       "\n",
       "    .dataframe tbody tr th {\n",
       "        vertical-align: top;\n",
       "    }\n",
       "\n",
       "    .dataframe thead th {\n",
       "        text-align: right;\n",
       "    }\n",
       "</style>\n",
       "<table border=\"1\" class=\"dataframe\">\n",
       "  <thead>\n",
       "    <tr style=\"text-align: right;\">\n",
       "      <th></th>\n",
       "      <th>BHK</th>\n",
       "      <th>Rent</th>\n",
       "      <th>Size</th>\n",
       "      <th>Bathroom</th>\n",
       "    </tr>\n",
       "  </thead>\n",
       "  <tbody>\n",
       "    <tr>\n",
       "      <th>BHK</th>\n",
       "      <td>1.000000</td>\n",
       "      <td>0.369718</td>\n",
       "      <td>0.716145</td>\n",
       "      <td>0.794885</td>\n",
       "    </tr>\n",
       "    <tr>\n",
       "      <th>Rent</th>\n",
       "      <td>0.369718</td>\n",
       "      <td>1.000000</td>\n",
       "      <td>0.413551</td>\n",
       "      <td>0.441215</td>\n",
       "    </tr>\n",
       "    <tr>\n",
       "      <th>Size</th>\n",
       "      <td>0.716145</td>\n",
       "      <td>0.413551</td>\n",
       "      <td>1.000000</td>\n",
       "      <td>0.740703</td>\n",
       "    </tr>\n",
       "    <tr>\n",
       "      <th>Bathroom</th>\n",
       "      <td>0.794885</td>\n",
       "      <td>0.441215</td>\n",
       "      <td>0.740703</td>\n",
       "      <td>1.000000</td>\n",
       "    </tr>\n",
       "  </tbody>\n",
       "</table>\n",
       "</div>"
      ],
      "text/plain": [
       "               BHK      Rent      Size  Bathroom\n",
       "BHK       1.000000  0.369718  0.716145  0.794885\n",
       "Rent      0.369718  1.000000  0.413551  0.441215\n",
       "Size      0.716145  0.413551  1.000000  0.740703\n",
       "Bathroom  0.794885  0.441215  0.740703  1.000000"
      ]
     },
     "execution_count": 38,
     "metadata": {},
     "output_type": "execute_result"
    }
   ],
   "source": [
    "df.corr()"
   ]
  },
  {
   "cell_type": "code",
   "execution_count": 39,
   "id": "2c2bc6ad",
   "metadata": {
    "execution": {
     "iopub.execute_input": "2022-08-27T13:15:41.686676Z",
     "iopub.status.busy": "2022-08-27T13:15:41.686416Z",
     "iopub.status.idle": "2022-08-27T13:15:41.747447Z",
     "shell.execute_reply": "2022-08-27T13:15:41.746572Z"
    },
    "papermill": {
     "duration": 0.075045,
     "end_time": "2022-08-27T13:15:41.749565",
     "exception": false,
     "start_time": "2022-08-27T13:15:41.674520",
     "status": "completed"
    },
    "tags": []
   },
   "outputs": [],
   "source": [
    "import pandas as pd\n",
    "import seaborn as sb"
   ]
  },
  {
   "cell_type": "code",
   "execution_count": 40,
   "id": "1bb3a47f",
   "metadata": {
    "execution": {
     "iopub.execute_input": "2022-08-27T13:15:41.773045Z",
     "iopub.status.busy": "2022-08-27T13:15:41.772149Z",
     "iopub.status.idle": "2022-08-27T13:15:42.013184Z",
     "shell.execute_reply": "2022-08-27T13:15:42.012160Z"
    },
    "papermill": {
     "duration": 0.255035,
     "end_time": "2022-08-27T13:15:42.015300",
     "exception": false,
     "start_time": "2022-08-27T13:15:41.760265",
     "status": "completed"
    },
    "tags": []
   },
   "outputs": [
    {
     "data": {
      "text/plain": [
       "<AxesSubplot:>"
      ]
     },
     "execution_count": 40,
     "metadata": {},
     "output_type": "execute_result"
    },
    {
     "data": {
      "image/png": "[encoded data removed]",
      "text/plain": [
       "<Figure size 432x288 with 2 Axes>"
      ]
     },
     "metadata": {
      "needs_background": "light"
     },
     "output_type": "display_data"
    }
   ],
   "source": [
    "sb.heatmap(df.corr())"
   ]
  }
 ],
 "metadata": {
  "kernelspec": {
   "display_name": "Python 3",
   "language": "python",
   "name": "python3"
  },
  "language_info": {
   "codemirror_mode": {
    "name": "ipython",
    "version": 3
   },
   "file_extension": ".py",
   "mimetype": "text/x-python",
   "name": "python",
   "nbconvert_exporter": "python",
   "pygments_lexer": "ipython3",
   "version": "3.7.12"
  },
  "papermill": {
   "default_parameters": {},
   "duration": 15.065872,
   "end_time": "2022-08-27T13:15:43.147677",
   "environment_variables": {},
   "exception": null,
   "input_path": "__notebook__.ipynb",
   "output_path": "__notebook__.ipynb",
   "parameters": {},
   "start_time": "2022-08-27T13:15:28.081805",
   "version": "2.3.4"
  }
 },
 "nbformat": 4,
 "nbformat_minor": 5
}
